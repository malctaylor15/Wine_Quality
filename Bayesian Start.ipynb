{
 "cells": [
  {
   "cell_type": "markdown",
   "metadata": {},
   "source": [
    "### Bayesian Practice with wine quality Data set \n",
    "\n"
   ]
  },
  {
   "cell_type": "markdown",
   "metadata": {},
   "source": [
    "Data available at \n",
    "\n",
    "https://archive.ics.uci.edu/ml/datasets/Wine+Quality\n",
    "\n"
   ]
  },
  {
   "cell_type": "code",
   "execution_count": 1,
   "metadata": {
    "collapsed": true
   },
   "outputs": [],
   "source": [
    "import pandas as pd \n",
    "import numpy as np \n",
    "import sklearn as sk \n",
    "import matplotlib.pyplot as plt\n",
    "%matplotlib inline\n",
    "plt.rcParams['figure.figsize'] = (12.0, 10.0)"
   ]
  },
  {
   "cell_type": "code",
   "execution_count": 2,
   "metadata": {
    "collapsed": false
   },
   "outputs": [
    {
     "data": {
      "text/html": [
       "<div>\n",
       "<table border=\"1\" class=\"dataframe\">\n",
       "  <thead>\n",
       "    <tr style=\"text-align: right;\">\n",
       "      <th></th>\n",
       "      <th>fixed acidity</th>\n",
       "      <th>volatile acidity</th>\n",
       "      <th>citric acid</th>\n",
       "      <th>residual sugar</th>\n",
       "      <th>chlorides</th>\n",
       "      <th>free sulfur dioxide</th>\n",
       "      <th>total sulfur dioxide</th>\n",
       "      <th>density</th>\n",
       "      <th>pH</th>\n",
       "      <th>sulphates</th>\n",
       "      <th>alcohol</th>\n",
       "      <th>quality</th>\n",
       "    </tr>\n",
       "  </thead>\n",
       "  <tbody>\n",
       "    <tr>\n",
       "      <th>0</th>\n",
       "      <td>7.4</td>\n",
       "      <td>0.70</td>\n",
       "      <td>0.00</td>\n",
       "      <td>1.9</td>\n",
       "      <td>0.076</td>\n",
       "      <td>11.0</td>\n",
       "      <td>34.0</td>\n",
       "      <td>0.9978</td>\n",
       "      <td>3.51</td>\n",
       "      <td>0.56</td>\n",
       "      <td>9.4</td>\n",
       "      <td>5</td>\n",
       "    </tr>\n",
       "    <tr>\n",
       "      <th>1</th>\n",
       "      <td>7.8</td>\n",
       "      <td>0.88</td>\n",
       "      <td>0.00</td>\n",
       "      <td>2.6</td>\n",
       "      <td>0.098</td>\n",
       "      <td>25.0</td>\n",
       "      <td>67.0</td>\n",
       "      <td>0.9968</td>\n",
       "      <td>3.20</td>\n",
       "      <td>0.68</td>\n",
       "      <td>9.8</td>\n",
       "      <td>5</td>\n",
       "    </tr>\n",
       "    <tr>\n",
       "      <th>2</th>\n",
       "      <td>7.8</td>\n",
       "      <td>0.76</td>\n",
       "      <td>0.04</td>\n",
       "      <td>2.3</td>\n",
       "      <td>0.092</td>\n",
       "      <td>15.0</td>\n",
       "      <td>54.0</td>\n",
       "      <td>0.9970</td>\n",
       "      <td>3.26</td>\n",
       "      <td>0.65</td>\n",
       "      <td>9.8</td>\n",
       "      <td>5</td>\n",
       "    </tr>\n",
       "    <tr>\n",
       "      <th>3</th>\n",
       "      <td>11.2</td>\n",
       "      <td>0.28</td>\n",
       "      <td>0.56</td>\n",
       "      <td>1.9</td>\n",
       "      <td>0.075</td>\n",
       "      <td>17.0</td>\n",
       "      <td>60.0</td>\n",
       "      <td>0.9980</td>\n",
       "      <td>3.16</td>\n",
       "      <td>0.58</td>\n",
       "      <td>9.8</td>\n",
       "      <td>6</td>\n",
       "    </tr>\n",
       "    <tr>\n",
       "      <th>4</th>\n",
       "      <td>7.4</td>\n",
       "      <td>0.70</td>\n",
       "      <td>0.00</td>\n",
       "      <td>1.9</td>\n",
       "      <td>0.076</td>\n",
       "      <td>11.0</td>\n",
       "      <td>34.0</td>\n",
       "      <td>0.9978</td>\n",
       "      <td>3.51</td>\n",
       "      <td>0.56</td>\n",
       "      <td>9.4</td>\n",
       "      <td>5</td>\n",
       "    </tr>\n",
       "    <tr>\n",
       "      <th>5</th>\n",
       "      <td>7.4</td>\n",
       "      <td>0.66</td>\n",
       "      <td>0.00</td>\n",
       "      <td>1.8</td>\n",
       "      <td>0.075</td>\n",
       "      <td>13.0</td>\n",
       "      <td>40.0</td>\n",
       "      <td>0.9978</td>\n",
       "      <td>3.51</td>\n",
       "      <td>0.56</td>\n",
       "      <td>9.4</td>\n",
       "      <td>5</td>\n",
       "    </tr>\n",
       "    <tr>\n",
       "      <th>6</th>\n",
       "      <td>7.9</td>\n",
       "      <td>0.60</td>\n",
       "      <td>0.06</td>\n",
       "      <td>1.6</td>\n",
       "      <td>0.069</td>\n",
       "      <td>15.0</td>\n",
       "      <td>59.0</td>\n",
       "      <td>0.9964</td>\n",
       "      <td>3.30</td>\n",
       "      <td>0.46</td>\n",
       "      <td>9.4</td>\n",
       "      <td>5</td>\n",
       "    </tr>\n",
       "    <tr>\n",
       "      <th>7</th>\n",
       "      <td>7.3</td>\n",
       "      <td>0.65</td>\n",
       "      <td>0.00</td>\n",
       "      <td>1.2</td>\n",
       "      <td>0.065</td>\n",
       "      <td>15.0</td>\n",
       "      <td>21.0</td>\n",
       "      <td>0.9946</td>\n",
       "      <td>3.39</td>\n",
       "      <td>0.47</td>\n",
       "      <td>10.0</td>\n",
       "      <td>7</td>\n",
       "    </tr>\n",
       "    <tr>\n",
       "      <th>8</th>\n",
       "      <td>7.8</td>\n",
       "      <td>0.58</td>\n",
       "      <td>0.02</td>\n",
       "      <td>2.0</td>\n",
       "      <td>0.073</td>\n",
       "      <td>9.0</td>\n",
       "      <td>18.0</td>\n",
       "      <td>0.9968</td>\n",
       "      <td>3.36</td>\n",
       "      <td>0.57</td>\n",
       "      <td>9.5</td>\n",
       "      <td>7</td>\n",
       "    </tr>\n",
       "    <tr>\n",
       "      <th>9</th>\n",
       "      <td>7.5</td>\n",
       "      <td>0.50</td>\n",
       "      <td>0.36</td>\n",
       "      <td>6.1</td>\n",
       "      <td>0.071</td>\n",
       "      <td>17.0</td>\n",
       "      <td>102.0</td>\n",
       "      <td>0.9978</td>\n",
       "      <td>3.35</td>\n",
       "      <td>0.80</td>\n",
       "      <td>10.5</td>\n",
       "      <td>5</td>\n",
       "    </tr>\n",
       "  </tbody>\n",
       "</table>\n",
       "</div>"
      ],
      "text/plain": [
       "   fixed acidity  volatile acidity  citric acid  residual sugar  chlorides  \\\n",
       "0            7.4              0.70         0.00             1.9      0.076   \n",
       "1            7.8              0.88         0.00             2.6      0.098   \n",
       "2            7.8              0.76         0.04             2.3      0.092   \n",
       "3           11.2              0.28         0.56             1.9      0.075   \n",
       "4            7.4              0.70         0.00             1.9      0.076   \n",
       "5            7.4              0.66         0.00             1.8      0.075   \n",
       "6            7.9              0.60         0.06             1.6      0.069   \n",
       "7            7.3              0.65         0.00             1.2      0.065   \n",
       "8            7.8              0.58         0.02             2.0      0.073   \n",
       "9            7.5              0.50         0.36             6.1      0.071   \n",
       "\n",
       "   free sulfur dioxide  total sulfur dioxide  density    pH  sulphates  \\\n",
       "0                 11.0                  34.0   0.9978  3.51       0.56   \n",
       "1                 25.0                  67.0   0.9968  3.20       0.68   \n",
       "2                 15.0                  54.0   0.9970  3.26       0.65   \n",
       "3                 17.0                  60.0   0.9980  3.16       0.58   \n",
       "4                 11.0                  34.0   0.9978  3.51       0.56   \n",
       "5                 13.0                  40.0   0.9978  3.51       0.56   \n",
       "6                 15.0                  59.0   0.9964  3.30       0.46   \n",
       "7                 15.0                  21.0   0.9946  3.39       0.47   \n",
       "8                  9.0                  18.0   0.9968  3.36       0.57   \n",
       "9                 17.0                 102.0   0.9978  3.35       0.80   \n",
       "\n",
       "   alcohol  quality  \n",
       "0      9.4        5  \n",
       "1      9.8        5  \n",
       "2      9.8        5  \n",
       "3      9.8        6  \n",
       "4      9.4        5  \n",
       "5      9.4        5  \n",
       "6      9.4        5  \n",
       "7     10.0        7  \n",
       "8      9.5        7  \n",
       "9     10.5        5  "
      ]
     },
     "execution_count": 2,
     "metadata": {},
     "output_type": "execute_result"
    }
   ],
   "source": [
    "red_wine_raw = pd.read_csv(\"winequality-red.csv\",sep = ';' )\n",
    "red_wine_raw.head(10)"
   ]
  },
  {
   "cell_type": "code",
   "execution_count": 3,
   "metadata": {
    "collapsed": false
   },
   "outputs": [
    {
     "data": {
      "text/html": [
       "<div>\n",
       "<table border=\"1\" class=\"dataframe\">\n",
       "  <thead>\n",
       "    <tr style=\"text-align: right;\">\n",
       "      <th></th>\n",
       "      <th>fixed acidity</th>\n",
       "      <th>volatile acidity</th>\n",
       "      <th>citric acid</th>\n",
       "      <th>residual sugar</th>\n",
       "      <th>chlorides</th>\n",
       "      <th>free sulfur dioxide</th>\n",
       "      <th>total sulfur dioxide</th>\n",
       "      <th>density</th>\n",
       "      <th>pH</th>\n",
       "      <th>sulphates</th>\n",
       "      <th>alcohol</th>\n",
       "      <th>quality</th>\n",
       "    </tr>\n",
       "  </thead>\n",
       "  <tbody>\n",
       "    <tr>\n",
       "      <th>count</th>\n",
       "      <td>1599.000000</td>\n",
       "      <td>1599.000000</td>\n",
       "      <td>1599.000000</td>\n",
       "      <td>1599.000000</td>\n",
       "      <td>1599.000000</td>\n",
       "      <td>1599.000000</td>\n",
       "      <td>1599.000000</td>\n",
       "      <td>1599.000000</td>\n",
       "      <td>1599.000000</td>\n",
       "      <td>1599.000000</td>\n",
       "      <td>1599.000000</td>\n",
       "      <td>1599.000000</td>\n",
       "    </tr>\n",
       "    <tr>\n",
       "      <th>mean</th>\n",
       "      <td>8.319637</td>\n",
       "      <td>0.527821</td>\n",
       "      <td>0.270976</td>\n",
       "      <td>2.538806</td>\n",
       "      <td>0.087467</td>\n",
       "      <td>15.874922</td>\n",
       "      <td>46.467792</td>\n",
       "      <td>0.996747</td>\n",
       "      <td>3.311113</td>\n",
       "      <td>0.658149</td>\n",
       "      <td>10.422983</td>\n",
       "      <td>5.636023</td>\n",
       "    </tr>\n",
       "    <tr>\n",
       "      <th>std</th>\n",
       "      <td>1.741096</td>\n",
       "      <td>0.179060</td>\n",
       "      <td>0.194801</td>\n",
       "      <td>1.409928</td>\n",
       "      <td>0.047065</td>\n",
       "      <td>10.460157</td>\n",
       "      <td>32.895324</td>\n",
       "      <td>0.001887</td>\n",
       "      <td>0.154386</td>\n",
       "      <td>0.169507</td>\n",
       "      <td>1.065668</td>\n",
       "      <td>0.807569</td>\n",
       "    </tr>\n",
       "    <tr>\n",
       "      <th>min</th>\n",
       "      <td>4.600000</td>\n",
       "      <td>0.120000</td>\n",
       "      <td>0.000000</td>\n",
       "      <td>0.900000</td>\n",
       "      <td>0.012000</td>\n",
       "      <td>1.000000</td>\n",
       "      <td>6.000000</td>\n",
       "      <td>0.990070</td>\n",
       "      <td>2.740000</td>\n",
       "      <td>0.330000</td>\n",
       "      <td>8.400000</td>\n",
       "      <td>3.000000</td>\n",
       "    </tr>\n",
       "    <tr>\n",
       "      <th>25%</th>\n",
       "      <td>7.100000</td>\n",
       "      <td>0.390000</td>\n",
       "      <td>0.090000</td>\n",
       "      <td>1.900000</td>\n",
       "      <td>0.070000</td>\n",
       "      <td>7.000000</td>\n",
       "      <td>22.000000</td>\n",
       "      <td>0.995600</td>\n",
       "      <td>3.210000</td>\n",
       "      <td>0.550000</td>\n",
       "      <td>9.500000</td>\n",
       "      <td>5.000000</td>\n",
       "    </tr>\n",
       "    <tr>\n",
       "      <th>50%</th>\n",
       "      <td>7.900000</td>\n",
       "      <td>0.520000</td>\n",
       "      <td>0.260000</td>\n",
       "      <td>2.200000</td>\n",
       "      <td>0.079000</td>\n",
       "      <td>14.000000</td>\n",
       "      <td>38.000000</td>\n",
       "      <td>0.996750</td>\n",
       "      <td>3.310000</td>\n",
       "      <td>0.620000</td>\n",
       "      <td>10.200000</td>\n",
       "      <td>6.000000</td>\n",
       "    </tr>\n",
       "    <tr>\n",
       "      <th>75%</th>\n",
       "      <td>9.200000</td>\n",
       "      <td>0.640000</td>\n",
       "      <td>0.420000</td>\n",
       "      <td>2.600000</td>\n",
       "      <td>0.090000</td>\n",
       "      <td>21.000000</td>\n",
       "      <td>62.000000</td>\n",
       "      <td>0.997835</td>\n",
       "      <td>3.400000</td>\n",
       "      <td>0.730000</td>\n",
       "      <td>11.100000</td>\n",
       "      <td>6.000000</td>\n",
       "    </tr>\n",
       "    <tr>\n",
       "      <th>max</th>\n",
       "      <td>15.900000</td>\n",
       "      <td>1.580000</td>\n",
       "      <td>1.000000</td>\n",
       "      <td>15.500000</td>\n",
       "      <td>0.611000</td>\n",
       "      <td>72.000000</td>\n",
       "      <td>289.000000</td>\n",
       "      <td>1.003690</td>\n",
       "      <td>4.010000</td>\n",
       "      <td>2.000000</td>\n",
       "      <td>14.900000</td>\n",
       "      <td>8.000000</td>\n",
       "    </tr>\n",
       "  </tbody>\n",
       "</table>\n",
       "</div>"
      ],
      "text/plain": [
       "       fixed acidity  volatile acidity  citric acid  residual sugar  \\\n",
       "count    1599.000000       1599.000000  1599.000000     1599.000000   \n",
       "mean        8.319637          0.527821     0.270976        2.538806   \n",
       "std         1.741096          0.179060     0.194801        1.409928   \n",
       "min         4.600000          0.120000     0.000000        0.900000   \n",
       "25%         7.100000          0.390000     0.090000        1.900000   \n",
       "50%         7.900000          0.520000     0.260000        2.200000   \n",
       "75%         9.200000          0.640000     0.420000        2.600000   \n",
       "max        15.900000          1.580000     1.000000       15.500000   \n",
       "\n",
       "         chlorides  free sulfur dioxide  total sulfur dioxide      density  \\\n",
       "count  1599.000000          1599.000000           1599.000000  1599.000000   \n",
       "mean      0.087467            15.874922             46.467792     0.996747   \n",
       "std       0.047065            10.460157             32.895324     0.001887   \n",
       "min       0.012000             1.000000              6.000000     0.990070   \n",
       "25%       0.070000             7.000000             22.000000     0.995600   \n",
       "50%       0.079000            14.000000             38.000000     0.996750   \n",
       "75%       0.090000            21.000000             62.000000     0.997835   \n",
       "max       0.611000            72.000000            289.000000     1.003690   \n",
       "\n",
       "                pH    sulphates      alcohol      quality  \n",
       "count  1599.000000  1599.000000  1599.000000  1599.000000  \n",
       "mean      3.311113     0.658149    10.422983     5.636023  \n",
       "std       0.154386     0.169507     1.065668     0.807569  \n",
       "min       2.740000     0.330000     8.400000     3.000000  \n",
       "25%       3.210000     0.550000     9.500000     5.000000  \n",
       "50%       3.310000     0.620000    10.200000     6.000000  \n",
       "75%       3.400000     0.730000    11.100000     6.000000  \n",
       "max       4.010000     2.000000    14.900000     8.000000  "
      ]
     },
     "execution_count": 3,
     "metadata": {},
     "output_type": "execute_result"
    }
   ],
   "source": [
    "red_wine_raw.describe()"
   ]
  },
  {
   "cell_type": "code",
   "execution_count": 4,
   "metadata": {
    "collapsed": false
   },
   "outputs": [
    {
     "data": {
      "image/png": "[encoded data removed]",
      "text/plain": [
       "<matplotlib.figure.Figure at 0x223db1cc048>"
      ]
     },
     "metadata": {},
     "output_type": "display_data"
    }
   ],
   "source": [
    "red_wine_raw.hist()\n",
    "plt.show()"
   ]
  },
  {
   "cell_type": "code",
   "execution_count": 5,
   "metadata": {
    "collapsed": false
   },
   "outputs": [
    {
     "data": {
      "image/png": "[encoded data removed]",
      "text/plain": [
       "<matplotlib.figure.Figure at 0x223dbac3d68>"
      ]
     },
     "metadata": {},
     "output_type": "display_data"
    }
   ],
   "source": [
    "red_wine_raw.plot(kind = 'density',subplots = True, layout =(3,4), sharex = False )\n",
    "plt.show()"
   ]
  },
  {
   "cell_type": "markdown",
   "metadata": {},
   "source": [
    "## Pre processing \n",
    "\n",
    "We will start by turning finding the average wine quality ranking and making the categorical quality into a binary variable "
   ]
  },
  {
   "cell_type": "code",
   "execution_count": 6,
   "metadata": {
    "collapsed": false
   },
   "outputs": [],
   "source": [
    "qual_mean = red_wine_raw[\"quality\"].mean()\n",
    "qual_count_low = red_wine_raw[red_wine_raw[\"quality\"] < qual_mean].count()[1]\n",
    "qual_count_high = red_wine_raw[red_wine_raw[\"quality\"] > qual_mean].count()[1]"
   ]
  },
  {
   "cell_type": "code",
   "execution_count": 7,
   "metadata": {
    "collapsed": false
   },
   "outputs": [
    {
     "name": "stdout",
     "output_type": "stream",
     "text": [
      "The average quality is  5.6360225140712945\n",
      "The number of low's are  744\n",
      "The number of high's are  855\n",
      "The ratio of high to low's are  1.14919354839\n"
     ]
    }
   ],
   "source": [
    "print(\"The average quality is \", qual_mean)\n",
    "print(\"The number of low's are \", qual_count_low) \n",
    "print(\"The number of high's are \", qual_count_high)\n",
    "print(\"The ratio of high to low's are \", qual_count_high/qual_count_low)"
   ]
  },
  {
   "cell_type": "markdown",
   "metadata": {},
   "source": [
    "Let's make the binary variable "
   ]
  },
  {
   "cell_type": "code",
   "execution_count": 8,
   "metadata": {
    "collapsed": true
   },
   "outputs": [],
   "source": [
    "from sklearn.preprocessing import Binarizer"
   ]
  },
  {
   "cell_type": "code",
   "execution_count": 9,
   "metadata": {
    "collapsed": false
   },
   "outputs": [
    {
     "name": "stderr",
     "output_type": "stream",
     "text": [
      "C:\\Users\\board\\Anaconda3\\lib\\site-packages\\sklearn\\utils\\validation.py:395: DeprecationWarning: Passing 1d arrays as data is deprecated in 0.17 and will raise ValueError in 0.19. Reshape your data either using X.reshape(-1, 1) if your data has a single feature or X.reshape(1, -1) if it contains a single sample.\n",
      "  DeprecationWarning)\n"
     ]
    }
   ],
   "source": [
    "binarizer1 = Binarizer(threshold=qual_mean)\n",
    "red_wine_raw[\"Quality_binary\"] = binarizer1.transform(red_wine_raw[\"quality\"]).transpose()"
   ]
  },
  {
   "cell_type": "code",
   "execution_count": 10,
   "metadata": {
    "collapsed": false
   },
   "outputs": [
    {
     "data": {
      "text/plain": [
       "855"
      ]
     },
     "execution_count": 10,
     "metadata": {},
     "output_type": "execute_result"
    }
   ],
   "source": [
    "# Check number of catefory labeled as 1  \n",
    "red_wine_raw[red_wine_raw[\"Quality_binary\"]==1].count()[1]"
   ]
  },
  {
   "cell_type": "code",
   "execution_count": 11,
   "metadata": {
    "collapsed": false
   },
   "outputs": [
    {
     "data": {
      "text/plain": [
       "Index(['fixed acidity', 'volatile acidity', 'citric acid', 'residual sugar',\n",
       "       'chlorides', 'free sulfur dioxide', 'total sulfur dioxide', 'density',\n",
       "       'pH', 'sulphates', 'alcohol', 'quality', 'Quality_binary'],\n",
       "      dtype='object')"
      ]
     },
     "execution_count": 11,
     "metadata": {},
     "output_type": "execute_result"
    }
   ],
   "source": [
    "red_wine_raw.columns"
   ]
  },
  {
   "cell_type": "code",
   "execution_count": 12,
   "metadata": {
    "collapsed": true
   },
   "outputs": [],
   "source": [
    "X = red_wine_raw.drop(['quality', 'Quality_binary'], axis = 1)\n",
    "X['intercept'] = 1.0\n",
    "Y = red_wine_raw.Quality_binary"
   ]
  },
  {
   "cell_type": "markdown",
   "metadata": {},
   "source": [
    "### Standard Linear Regression  \n",
    "Let's do a standard linear regression to get our basics down.  \n",
    "We will then have an idea for the which variables are important and potentially a range for the betas "
   ]
  },
  {
   "cell_type": "code",
   "execution_count": 13,
   "metadata": {
    "collapsed": false
   },
   "outputs": [
    {
     "name": "stdout",
     "output_type": "stream",
     "text": [
      "Optimization terminated successfully.\n",
      "         Current function value: 0.517706\n",
      "         Iterations 7\n"
     ]
    },
    {
     "data": {
      "text/html": [
       "<table class=\"simpletable\">\n",
       "<caption>Logit Regression Results</caption>\n",
       "<tr>\n",
       "  <th>Dep. Variable:</th>  <td>Quality_binary</td>  <th>  No. Observations:  </th>   <td>  1599</td>  \n",
       "</tr>\n",
       "<tr>\n",
       "  <th>Model:</th>               <td>Logit</td>      <th>  Df Residuals:      </th>   <td>  1587</td>  \n",
       "</tr>\n",
       "<tr>\n",
       "  <th>Method:</th>               <td>MLE</td>       <th>  Df Model:          </th>   <td>    11</td>  \n",
       "</tr>\n",
       "<tr>\n",
       "  <th>Date:</th>          <td>Tue, 10 Oct 2017</td> <th>  Pseudo R-squ.:     </th>   <td>0.2505</td>  \n",
       "</tr>\n",
       "<tr>\n",
       "  <th>Time:</th>              <td>23:00:41</td>     <th>  Log-Likelihood:    </th>  <td> -827.81</td> \n",
       "</tr>\n",
       "<tr>\n",
       "  <th>converged:</th>           <td>True</td>       <th>  LL-Null:           </th>  <td> -1104.5</td> \n",
       "</tr>\n",
       "<tr>\n",
       "  <th> </th>                      <td> </td>        <th>  LLR p-value:       </th> <td>1.316e-111</td>\n",
       "</tr>\n",
       "</table>\n",
       "<table class=\"simpletable\">\n",
       "<tr>\n",
       "            <td></td>              <th>coef</th>     <th>std err</th>      <th>z</th>      <th>P>|z|</th>  <th>[0.025</th>    <th>0.975]</th>  \n",
       "</tr>\n",
       "<tr>\n",
       "  <th>fixed acidity</th>        <td>    0.1360</td> <td>    0.098</td> <td>    1.381</td> <td> 0.167</td> <td>   -0.057</td> <td>    0.329</td>\n",
       "</tr>\n",
       "<tr>\n",
       "  <th>volatile acidity</th>     <td>   -3.2817</td> <td>    0.488</td> <td>   -6.722</td> <td> 0.000</td> <td>   -4.239</td> <td>   -2.325</td>\n",
       "</tr>\n",
       "<tr>\n",
       "  <th>citric acid</th>          <td>   -1.2743</td> <td>    0.563</td> <td>   -2.265</td> <td> 0.024</td> <td>   -2.377</td> <td>   -0.171</td>\n",
       "</tr>\n",
       "<tr>\n",
       "  <th>residual sugar</th>       <td>    0.0553</td> <td>    0.054</td> <td>    1.029</td> <td> 0.304</td> <td>   -0.050</td> <td>    0.161</td>\n",
       "</tr>\n",
       "<tr>\n",
       "  <th>chlorides</th>            <td>   -3.9157</td> <td>    1.569</td> <td>   -2.495</td> <td> 0.013</td> <td>   -6.992</td> <td>   -0.840</td>\n",
       "</tr>\n",
       "<tr>\n",
       "  <th>free sulfur dioxide</th>  <td>    0.0222</td> <td>    0.008</td> <td>    2.698</td> <td> 0.007</td> <td>    0.006</td> <td>    0.038</td>\n",
       "</tr>\n",
       "<tr>\n",
       "  <th>total sulfur dioxide</th> <td>   -0.0164</td> <td>    0.003</td> <td>   -5.688</td> <td> 0.000</td> <td>   -0.022</td> <td>   -0.011</td>\n",
       "</tr>\n",
       "<tr>\n",
       "  <th>density</th>              <td>  -50.9324</td> <td>   81.151</td> <td>   -0.628</td> <td> 0.530</td> <td> -209.985</td> <td>  108.120</td>\n",
       "</tr>\n",
       "<tr>\n",
       "  <th>pH</th>                   <td>   -0.3806</td> <td>    0.720</td> <td>   -0.528</td> <td> 0.597</td> <td>   -1.792</td> <td>    1.031</td>\n",
       "</tr>\n",
       "<tr>\n",
       "  <th>sulphates</th>            <td>    2.7951</td> <td>    0.452</td> <td>    6.181</td> <td> 0.000</td> <td>    1.909</td> <td>    3.681</td>\n",
       "</tr>\n",
       "<tr>\n",
       "  <th>alcohol</th>              <td>    0.8668</td> <td>    0.104</td> <td>    8.319</td> <td> 0.000</td> <td>    0.663</td> <td>    1.071</td>\n",
       "</tr>\n",
       "<tr>\n",
       "  <th>intercept</th>            <td>   42.9499</td> <td>   79.476</td> <td>    0.540</td> <td> 0.589</td> <td> -112.820</td> <td>  198.720</td>\n",
       "</tr>\n",
       "</table>"
      ],
      "text/plain": [
       "<class 'statsmodels.iolib.summary.Summary'>\n",
       "\"\"\"\n",
       "                           Logit Regression Results                           \n",
       "==============================================================================\n",
       "Dep. Variable:         Quality_binary   No. Observations:                 1599\n",
       "Model:                          Logit   Df Residuals:                     1587\n",
       "Method:                           MLE   Df Model:                           11\n",
       "Date:                Tue, 10 Oct 2017   Pseudo R-squ.:                  0.2505\n",
       "Time:                        23:00:41   Log-Likelihood:                -827.81\n",
       "converged:                       True   LL-Null:                       -1104.5\n",
       "                                        LLR p-value:                1.316e-111\n",
       "========================================================================================\n",
       "                           coef    std err          z      P>|z|      [0.025      0.975]\n",
       "----------------------------------------------------------------------------------------\n",
       "fixed acidity            0.1360      0.098      1.381      0.167      -0.057       0.329\n",
       "volatile acidity        -3.2817      0.488     -6.722      0.000      -4.239      -2.325\n",
       "citric acid             -1.2743      0.563     -2.265      0.024      -2.377      -0.171\n",
       "residual sugar           0.0553      0.054      1.029      0.304      -0.050       0.161\n",
       "chlorides               -3.9157      1.569     -2.495      0.013      -6.992      -0.840\n",
       "free sulfur dioxide      0.0222      0.008      2.698      0.007       0.006       0.038\n",
       "total sulfur dioxide    -0.0164      0.003     -5.688      0.000      -0.022      -0.011\n",
       "density                -50.9324     81.151     -0.628      0.530    -209.985     108.120\n",
       "pH                      -0.3806      0.720     -0.528      0.597      -1.792       1.031\n",
       "sulphates                2.7951      0.452      6.181      0.000       1.909       3.681\n",
       "alcohol                  0.8668      0.104      8.319      0.000       0.663       1.071\n",
       "intercept               42.9499     79.476      0.540      0.589    -112.820     198.720\n",
       "========================================================================================\n",
       "\"\"\""
      ]
     },
     "execution_count": 13,
     "metadata": {},
     "output_type": "execute_result"
    }
   ],
   "source": [
    "import statsmodels.discrete.discrete_model as sm\n",
    "\n",
    "logit = sm.Logit(Y, X).fit()\n",
    "logit.summary()"
   ]
  },
  {
   "cell_type": "code",
   "execution_count": 14,
   "metadata": {
    "collapsed": false
   },
   "outputs": [
    {
     "data": {
      "text/plain": [
       "fixed acidity           16.74\n",
       "volatile acidity         0.00\n",
       "citric acid              2.35\n",
       "residual sugar          30.35\n",
       "chlorides                1.26\n",
       "free sulfur dioxide      0.70\n",
       "total sulfur dioxide     0.00\n",
       "density                 53.02\n",
       "pH                      59.72\n",
       "sulphates                0.00\n",
       "alcohol                  0.00\n",
       "intercept               58.89\n",
       "dtype: float64"
      ]
     },
     "execution_count": 14,
     "metadata": {},
     "output_type": "execute_result"
    }
   ],
   "source": [
    "round(logit.pvalues,4)*100"
   ]
  },
  {
   "cell_type": "code",
   "execution_count": 15,
   "metadata": {
    "collapsed": false
   },
   "outputs": [
    {
     "data": {
      "text/html": [
       "<table class=\"simpletable\">\n",
       "<tr>\n",
       "            <td></td>              <th>coef</th>     <th>std err</th>      <th>z</th>      <th>P>|z|</th>  <th>[0.025</th>    <th>0.975]</th>  \n",
       "</tr>\n",
       "<tr>\n",
       "  <th>fixed acidity</th>        <td>    0.1360</td> <td>    0.098</td> <td>    1.381</td> <td> 0.167</td> <td>   -0.057</td> <td>    0.329</td>\n",
       "</tr>\n",
       "<tr>\n",
       "  <th>volatile acidity</th>     <td>   -3.2817</td> <td>    0.488</td> <td>   -6.722</td> <td> 0.000</td> <td>   -4.239</td> <td>   -2.325</td>\n",
       "</tr>\n",
       "<tr>\n",
       "  <th>citric acid</th>          <td>   -1.2743</td> <td>    0.563</td> <td>   -2.265</td> <td> 0.024</td> <td>   -2.377</td> <td>   -0.171</td>\n",
       "</tr>\n",
       "<tr>\n",
       "  <th>residual sugar</th>       <td>    0.0553</td> <td>    0.054</td> <td>    1.029</td> <td> 0.304</td> <td>   -0.050</td> <td>    0.161</td>\n",
       "</tr>\n",
       "<tr>\n",
       "  <th>chlorides</th>            <td>   -3.9157</td> <td>    1.569</td> <td>   -2.495</td> <td> 0.013</td> <td>   -6.992</td> <td>   -0.840</td>\n",
       "</tr>\n",
       "<tr>\n",
       "  <th>free sulfur dioxide</th>  <td>    0.0222</td> <td>    0.008</td> <td>    2.698</td> <td> 0.007</td> <td>    0.006</td> <td>    0.038</td>\n",
       "</tr>\n",
       "<tr>\n",
       "  <th>total sulfur dioxide</th> <td>   -0.0164</td> <td>    0.003</td> <td>   -5.688</td> <td> 0.000</td> <td>   -0.022</td> <td>   -0.011</td>\n",
       "</tr>\n",
       "<tr>\n",
       "  <th>density</th>              <td>  -50.9324</td> <td>   81.151</td> <td>   -0.628</td> <td> 0.530</td> <td> -209.985</td> <td>  108.120</td>\n",
       "</tr>\n",
       "<tr>\n",
       "  <th>pH</th>                   <td>   -0.3806</td> <td>    0.720</td> <td>   -0.528</td> <td> 0.597</td> <td>   -1.792</td> <td>    1.031</td>\n",
       "</tr>\n",
       "<tr>\n",
       "  <th>sulphates</th>            <td>    2.7951</td> <td>    0.452</td> <td>    6.181</td> <td> 0.000</td> <td>    1.909</td> <td>    3.681</td>\n",
       "</tr>\n",
       "<tr>\n",
       "  <th>alcohol</th>              <td>    0.8668</td> <td>    0.104</td> <td>    8.319</td> <td> 0.000</td> <td>    0.663</td> <td>    1.071</td>\n",
       "</tr>\n",
       "<tr>\n",
       "  <th>intercept</th>            <td>   42.9499</td> <td>   79.476</td> <td>    0.540</td> <td> 0.589</td> <td> -112.820</td> <td>  198.720</td>\n",
       "</tr>\n",
       "</table>"
      ],
      "text/plain": [
       "<class 'statsmodels.iolib.table.SimpleTable'>"
      ]
     },
     "execution_count": 15,
     "metadata": {},
     "output_type": "execute_result"
    }
   ],
   "source": [
    "logit_table1 = logit.summary().tables[1]\n",
    "logit_table1"
   ]
  },
  {
   "cell_type": "code",
   "execution_count": 16,
   "metadata": {
    "collapsed": false
   },
   "outputs": [],
   "source": [
    "def fix_sm_table(sm_logit_table):\n",
    "    \"\"\" This function turns a Simple Object from Stats model into a pandas table  \n",
    "    Main usage is intended for the results of a logistic regression \"\"\"\n",
    "    pd_table = pd.DataFrame(sm_logit_table.data)\n",
    "    try:\n",
    "        pd_table = np.float64(pd_table)\n",
    "    except :\n",
    "        print(\"Could not convert entire table to float64\")\n",
    "    new_header = pd_table.iloc[0]\n",
    "    new_index = pd_table.loc[:,0]\n",
    "    pd_table = pd_table.loc[1:,1:]\n",
    "    pd_table.columns = new_header[1:]\n",
    "    pd_table.index = new_index[1:]\n",
    "   \n",
    "    return pd_table"
   ]
  },
  {
   "cell_type": "code",
   "execution_count": 17,
   "metadata": {
    "collapsed": false
   },
   "outputs": [
    {
     "name": "stdout",
     "output_type": "stream",
     "text": [
      "Could not convert entire table to float64\n"
     ]
    }
   ],
   "source": [
    "prac2 = fix_sm_table(logit_table1)"
   ]
  },
  {
   "cell_type": "code",
   "execution_count": 18,
   "metadata": {
    "collapsed": false
   },
   "outputs": [
    {
     "name": "stdout",
     "output_type": "stream",
     "text": [
      "Could not convert entire table to float64\n"
     ]
    },
    {
     "data": {
      "text/html": [
       "<div>\n",
       "<table border=\"1\" class=\"dataframe\">\n",
       "  <thead>\n",
       "    <tr style=\"text-align: right;\">\n",
       "      <th></th>\n",
       "      <th>Quality_binary</th>\n",
       "      <th>No. Observations:</th>\n",
       "      <th>1599</th>\n",
       "    </tr>\n",
       "    <tr>\n",
       "      <th>0</th>\n",
       "      <th></th>\n",
       "      <th></th>\n",
       "      <th></th>\n",
       "    </tr>\n",
       "  </thead>\n",
       "  <tbody>\n",
       "    <tr>\n",
       "      <th>Model:</th>\n",
       "      <td>Logit</td>\n",
       "      <td>Df Residuals:</td>\n",
       "      <td>1587</td>\n",
       "    </tr>\n",
       "    <tr>\n",
       "      <th>Method:</th>\n",
       "      <td>MLE</td>\n",
       "      <td>Df Model:</td>\n",
       "      <td>11</td>\n",
       "    </tr>\n",
       "    <tr>\n",
       "      <th>Date:</th>\n",
       "      <td>Tue, 10 Oct 2017</td>\n",
       "      <td>Pseudo R-squ.:</td>\n",
       "      <td>0.2505</td>\n",
       "    </tr>\n",
       "    <tr>\n",
       "      <th>Time:</th>\n",
       "      <td>23:00:41</td>\n",
       "      <td>Log-Likelihood:</td>\n",
       "      <td>-827.81</td>\n",
       "    </tr>\n",
       "    <tr>\n",
       "      <th>converged:</th>\n",
       "      <td>True</td>\n",
       "      <td>LL-Null:</td>\n",
       "      <td>-1104.5</td>\n",
       "    </tr>\n",
       "    <tr>\n",
       "      <th></th>\n",
       "      <td></td>\n",
       "      <td>LLR p-value:</td>\n",
       "      <td>1.316e-111</td>\n",
       "    </tr>\n",
       "  </tbody>\n",
       "</table>\n",
       "</div>"
      ],
      "text/plain": [
       "0             Quality_binary    No. Observations:          1599\n",
       "0                                                              \n",
       "Model:                 Logit    Df Residuals:              1587\n",
       "Method:                  MLE    Df Model:                    11\n",
       "Date:       Tue, 10 Oct 2017    Pseudo R-squ.:           0.2505\n",
       "Time:               23:00:41    Log-Likelihood:         -827.81\n",
       "converged:              True    LL-Null:                -1104.5\n",
       "                                LLR p-value:         1.316e-111"
      ]
     },
     "execution_count": 18,
     "metadata": {},
     "output_type": "execute_result"
    }
   ],
   "source": [
    "fix_sm_table(logit.summary().tables[0])"
   ]
  },
  {
   "cell_type": "code",
   "execution_count": 19,
   "metadata": {
    "collapsed": false
   },
   "outputs": [
    {
     "data": {
      "text/html": [
       "<div>\n",
       "<table border=\"1\" class=\"dataframe\">\n",
       "  <thead>\n",
       "    <tr style=\"text-align: right;\">\n",
       "      <th></th>\n",
       "      <th>coef</th>\n",
       "      <th>std err</th>\n",
       "      <th>z</th>\n",
       "      <th>P&gt;|z|</th>\n",
       "      <th>[0.025</th>\n",
       "      <th>0.975]</th>\n",
       "    </tr>\n",
       "    <tr>\n",
       "      <th>0</th>\n",
       "      <th></th>\n",
       "      <th></th>\n",
       "      <th></th>\n",
       "      <th></th>\n",
       "      <th></th>\n",
       "      <th></th>\n",
       "    </tr>\n",
       "  </thead>\n",
       "  <tbody>\n",
       "    <tr>\n",
       "      <th>volatile acidity</th>\n",
       "      <td>-3.2817</td>\n",
       "      <td>0.488</td>\n",
       "      <td>-6.722</td>\n",
       "      <td>0.000</td>\n",
       "      <td>-4.239</td>\n",
       "      <td>-2.325</td>\n",
       "    </tr>\n",
       "    <tr>\n",
       "      <th>citric acid</th>\n",
       "      <td>-1.2743</td>\n",
       "      <td>0.563</td>\n",
       "      <td>-2.265</td>\n",
       "      <td>0.024</td>\n",
       "      <td>-2.377</td>\n",
       "      <td>-0.171</td>\n",
       "    </tr>\n",
       "    <tr>\n",
       "      <th>chlorides</th>\n",
       "      <td>-3.9157</td>\n",
       "      <td>1.569</td>\n",
       "      <td>-2.495</td>\n",
       "      <td>0.013</td>\n",
       "      <td>-6.992</td>\n",
       "      <td>-0.840</td>\n",
       "    </tr>\n",
       "    <tr>\n",
       "      <th>free sulfur dioxide</th>\n",
       "      <td>0.0222</td>\n",
       "      <td>0.008</td>\n",
       "      <td>2.698</td>\n",
       "      <td>0.007</td>\n",
       "      <td>0.006</td>\n",
       "      <td>0.038</td>\n",
       "    </tr>\n",
       "    <tr>\n",
       "      <th>total sulfur dioxide</th>\n",
       "      <td>-0.0164</td>\n",
       "      <td>0.003</td>\n",
       "      <td>-5.688</td>\n",
       "      <td>0.000</td>\n",
       "      <td>-0.022</td>\n",
       "      <td>-0.011</td>\n",
       "    </tr>\n",
       "    <tr>\n",
       "      <th>sulphates</th>\n",
       "      <td>2.7951</td>\n",
       "      <td>0.452</td>\n",
       "      <td>6.181</td>\n",
       "      <td>0.000</td>\n",
       "      <td>1.909</td>\n",
       "      <td>3.681</td>\n",
       "    </tr>\n",
       "    <tr>\n",
       "      <th>alcohol</th>\n",
       "      <td>0.8668</td>\n",
       "      <td>0.104</td>\n",
       "      <td>8.319</td>\n",
       "      <td>0.000</td>\n",
       "      <td>0.663</td>\n",
       "      <td>1.071</td>\n",
       "    </tr>\n",
       "  </tbody>\n",
       "</table>\n",
       "</div>"
      ],
      "text/plain": [
       "0                           coef    std err          z   P>|z|     [0.025  \\\n",
       "0                                                                           \n",
       "volatile acidity         -3.2817      0.488     -6.722   0.000     -4.239   \n",
       "citric acid              -1.2743      0.563     -2.265   0.024     -2.377   \n",
       "chlorides                -3.9157      1.569     -2.495   0.013     -6.992   \n",
       "free sulfur dioxide       0.0222      0.008      2.698   0.007      0.006   \n",
       "total sulfur dioxide     -0.0164      0.003     -5.688   0.000     -0.022   \n",
       "sulphates                 2.7951      0.452      6.181   0.000      1.909   \n",
       "alcohol                   0.8668      0.104      8.319   0.000      0.663   \n",
       "\n",
       "0                        0.975]  \n",
       "0                                \n",
       "volatile acidity         -2.325  \n",
       "citric acid              -0.171  \n",
       "chlorides                -0.840  \n",
       "free sulfur dioxide       0.038  \n",
       "total sulfur dioxide     -0.011  \n",
       "sulphates                 3.681  \n",
       "alcohol                   1.071  "
      ]
     },
     "execution_count": 19,
     "metadata": {},
     "output_type": "execute_result"
    }
   ],
   "source": [
    "good_vars_tbl = prac2.loc[np.float64(prac2['P>|z|']) < 0.05]\n",
    "good_vars_tbl"
   ]
  },
  {
   "cell_type": "markdown",
   "metadata": {
    "collapsed": true
   },
   "source": [
    "We want the coefficients where the probability of the z value is less than 5% (0.05) "
   ]
  },
  {
   "cell_type": "code",
   "execution_count": 20,
   "metadata": {
    "collapsed": false
   },
   "outputs": [],
   "source": [
    "good_vars_names = good_vars_tbl.index"
   ]
  },
  {
   "cell_type": "code",
   "execution_count": 21,
   "metadata": {
    "collapsed": false
   },
   "outputs": [
    {
     "data": {
      "text/plain": [
       "Index(['volatile acidity', 'citric acid', 'chlorides', 'free sulfur dioxide',\n",
       "       'total sulfur dioxide', 'sulphates', 'alcohol'],\n",
       "      dtype='object', name=0)"
      ]
     },
     "execution_count": 21,
     "metadata": {},
     "output_type": "execute_result"
    }
   ],
   "source": [
    "good_vars_names"
   ]
  },
  {
   "cell_type": "code",
   "execution_count": 22,
   "metadata": {
    "collapsed": false
   },
   "outputs": [
    {
     "name": "stderr",
     "output_type": "stream",
     "text": [
      "C:\\Users\\board\\Anaconda3\\lib\\site-packages\\ipykernel\\__main__.py:2: SettingWithCopyWarning: \n",
      "A value is trying to be set on a copy of a slice from a DataFrame.\n",
      "Try using .loc[row_indexer,col_indexer] = value instead\n",
      "\n",
      "See the caveats in the documentation: http://pandas.pydata.org/pandas-docs/stable/indexing.html#indexing-view-versus-copy\n",
      "  from ipykernel import kernelapp as app\n"
     ]
    }
   ],
   "source": [
    "X_mod2 = X[good_vars_names]\n",
    "X_mod2['intercept'] = 1.0"
   ]
  },
  {
   "cell_type": "code",
   "execution_count": 23,
   "metadata": {
    "collapsed": false
   },
   "outputs": [
    {
     "data": {
      "text/html": [
       "<div>\n",
       "<table border=\"1\" class=\"dataframe\">\n",
       "  <thead>\n",
       "    <tr style=\"text-align: right;\">\n",
       "      <th></th>\n",
       "      <th>volatile acidity</th>\n",
       "      <th>citric acid</th>\n",
       "      <th>chlorides</th>\n",
       "      <th>free sulfur dioxide</th>\n",
       "      <th>total sulfur dioxide</th>\n",
       "      <th>sulphates</th>\n",
       "      <th>alcohol</th>\n",
       "      <th>intercept</th>\n",
       "    </tr>\n",
       "  </thead>\n",
       "  <tbody>\n",
       "    <tr>\n",
       "      <th>0</th>\n",
       "      <td>0.70</td>\n",
       "      <td>0.00</td>\n",
       "      <td>0.076</td>\n",
       "      <td>11.0</td>\n",
       "      <td>34.0</td>\n",
       "      <td>0.56</td>\n",
       "      <td>9.4</td>\n",
       "      <td>1.0</td>\n",
       "    </tr>\n",
       "    <tr>\n",
       "      <th>1</th>\n",
       "      <td>0.88</td>\n",
       "      <td>0.00</td>\n",
       "      <td>0.098</td>\n",
       "      <td>25.0</td>\n",
       "      <td>67.0</td>\n",
       "      <td>0.68</td>\n",
       "      <td>9.8</td>\n",
       "      <td>1.0</td>\n",
       "    </tr>\n",
       "    <tr>\n",
       "      <th>2</th>\n",
       "      <td>0.76</td>\n",
       "      <td>0.04</td>\n",
       "      <td>0.092</td>\n",
       "      <td>15.0</td>\n",
       "      <td>54.0</td>\n",
       "      <td>0.65</td>\n",
       "      <td>9.8</td>\n",
       "      <td>1.0</td>\n",
       "    </tr>\n",
       "    <tr>\n",
       "      <th>3</th>\n",
       "      <td>0.28</td>\n",
       "      <td>0.56</td>\n",
       "      <td>0.075</td>\n",
       "      <td>17.0</td>\n",
       "      <td>60.0</td>\n",
       "      <td>0.58</td>\n",
       "      <td>9.8</td>\n",
       "      <td>1.0</td>\n",
       "    </tr>\n",
       "    <tr>\n",
       "      <th>4</th>\n",
       "      <td>0.70</td>\n",
       "      <td>0.00</td>\n",
       "      <td>0.076</td>\n",
       "      <td>11.0</td>\n",
       "      <td>34.0</td>\n",
       "      <td>0.56</td>\n",
       "      <td>9.4</td>\n",
       "      <td>1.0</td>\n",
       "    </tr>\n",
       "  </tbody>\n",
       "</table>\n",
       "</div>"
      ],
      "text/plain": [
       "   volatile acidity  citric acid  chlorides  free sulfur dioxide  \\\n",
       "0              0.70         0.00      0.076                 11.0   \n",
       "1              0.88         0.00      0.098                 25.0   \n",
       "2              0.76         0.04      0.092                 15.0   \n",
       "3              0.28         0.56      0.075                 17.0   \n",
       "4              0.70         0.00      0.076                 11.0   \n",
       "\n",
       "   total sulfur dioxide  sulphates  alcohol  intercept  \n",
       "0                  34.0       0.56      9.4        1.0  \n",
       "1                  67.0       0.68      9.8        1.0  \n",
       "2                  54.0       0.65      9.8        1.0  \n",
       "3                  60.0       0.58      9.8        1.0  \n",
       "4                  34.0       0.56      9.4        1.0  "
      ]
     },
     "execution_count": 23,
     "metadata": {},
     "output_type": "execute_result"
    }
   ],
   "source": [
    "X_mod2.head()"
   ]
  },
  {
   "cell_type": "code",
   "execution_count": 24,
   "metadata": {
    "collapsed": false
   },
   "outputs": [
    {
     "name": "stdout",
     "output_type": "stream",
     "text": [
      "Optimization terminated successfully.\n",
      "         Current function value: 0.520374\n",
      "         Iterations 6\n"
     ]
    },
    {
     "data": {
      "text/html": [
       "<table class=\"simpletable\">\n",
       "<caption>Logit Regression Results</caption>\n",
       "<tr>\n",
       "  <th>Dep. Variable:</th>  <td>Quality_binary</td>  <th>  No. Observations:  </th>   <td>  1599</td>  \n",
       "</tr>\n",
       "<tr>\n",
       "  <th>Model:</th>               <td>Logit</td>      <th>  Df Residuals:      </th>   <td>  1591</td>  \n",
       "</tr>\n",
       "<tr>\n",
       "  <th>Method:</th>               <td>MLE</td>       <th>  Df Model:          </th>   <td>     7</td>  \n",
       "</tr>\n",
       "<tr>\n",
       "  <th>Date:</th>          <td>Tue, 10 Oct 2017</td> <th>  Pseudo R-squ.:     </th>   <td>0.2466</td>  \n",
       "</tr>\n",
       "<tr>\n",
       "  <th>Time:</th>              <td>23:00:41</td>     <th>  Log-Likelihood:    </th>  <td> -832.08</td> \n",
       "</tr>\n",
       "<tr>\n",
       "  <th>converged:</th>           <td>True</td>       <th>  LL-Null:           </th>  <td> -1104.5</td> \n",
       "</tr>\n",
       "<tr>\n",
       "  <th> </th>                      <td> </td>        <th>  LLR p-value:       </th> <td>1.840e-113</td>\n",
       "</tr>\n",
       "</table>\n",
       "<table class=\"simpletable\">\n",
       "<tr>\n",
       "            <td></td>              <th>coef</th>     <th>std err</th>      <th>z</th>      <th>P>|z|</th>  <th>[0.025</th>    <th>0.975]</th>  \n",
       "</tr>\n",
       "<tr>\n",
       "  <th>volatile acidity</th>     <td>   -3.0923</td> <td>    0.456</td> <td>   -6.775</td> <td> 0.000</td> <td>   -3.987</td> <td>   -2.198</td>\n",
       "</tr>\n",
       "<tr>\n",
       "  <th>citric acid</th>          <td>   -0.3031</td> <td>    0.405</td> <td>   -0.748</td> <td> 0.454</td> <td>   -1.097</td> <td>    0.491</td>\n",
       "</tr>\n",
       "<tr>\n",
       "  <th>chlorides</th>            <td>   -4.1866</td> <td>    1.467</td> <td>   -2.854</td> <td> 0.004</td> <td>   -7.061</td> <td>   -1.312</td>\n",
       "</tr>\n",
       "<tr>\n",
       "  <th>free sulfur dioxide</th>  <td>    0.0226</td> <td>    0.008</td> <td>    2.767</td> <td> 0.006</td> <td>    0.007</td> <td>    0.039</td>\n",
       "</tr>\n",
       "<tr>\n",
       "  <th>total sulfur dioxide</th> <td>   -0.0171</td> <td>    0.003</td> <td>   -6.178</td> <td> 0.000</td> <td>   -0.023</td> <td>   -0.012</td>\n",
       "</tr>\n",
       "<tr>\n",
       "  <th>sulphates</th>            <td>    2.7402</td> <td>    0.432</td> <td>    6.349</td> <td> 0.000</td> <td>    1.894</td> <td>    3.586</td>\n",
       "</tr>\n",
       "<tr>\n",
       "  <th>alcohol</th>              <td>    0.8643</td> <td>    0.071</td> <td>   12.142</td> <td> 0.000</td> <td>    0.725</td> <td>    1.004</td>\n",
       "</tr>\n",
       "<tr>\n",
       "  <th>intercept</th>            <td>   -8.0594</td> <td>    0.819</td> <td>   -9.845</td> <td> 0.000</td> <td>   -9.664</td> <td>   -6.455</td>\n",
       "</tr>\n",
       "</table>"
      ],
      "text/plain": [
       "<class 'statsmodels.iolib.summary.Summary'>\n",
       "\"\"\"\n",
       "                           Logit Regression Results                           \n",
       "==============================================================================\n",
       "Dep. Variable:         Quality_binary   No. Observations:                 1599\n",
       "Model:                          Logit   Df Residuals:                     1591\n",
       "Method:                           MLE   Df Model:                            7\n",
       "Date:                Tue, 10 Oct 2017   Pseudo R-squ.:                  0.2466\n",
       "Time:                        23:00:41   Log-Likelihood:                -832.08\n",
       "converged:                       True   LL-Null:                       -1104.5\n",
       "                                        LLR p-value:                1.840e-113\n",
       "========================================================================================\n",
       "                           coef    std err          z      P>|z|      [0.025      0.975]\n",
       "----------------------------------------------------------------------------------------\n",
       "volatile acidity        -3.0923      0.456     -6.775      0.000      -3.987      -2.198\n",
       "citric acid             -0.3031      0.405     -0.748      0.454      -1.097       0.491\n",
       "chlorides               -4.1866      1.467     -2.854      0.004      -7.061      -1.312\n",
       "free sulfur dioxide      0.0226      0.008      2.767      0.006       0.007       0.039\n",
       "total sulfur dioxide    -0.0171      0.003     -6.178      0.000      -0.023      -0.012\n",
       "sulphates                2.7402      0.432      6.349      0.000       1.894       3.586\n",
       "alcohol                  0.8643      0.071     12.142      0.000       0.725       1.004\n",
       "intercept               -8.0594      0.819     -9.845      0.000      -9.664      -6.455\n",
       "========================================================================================\n",
       "\"\"\""
      ]
     },
     "execution_count": 24,
     "metadata": {},
     "output_type": "execute_result"
    }
   ],
   "source": [
    "logit_mod = sm.Logit(Y, X_mod2).fit()\n",
    "logit_mod.summary()"
   ]
  },
  {
   "cell_type": "markdown",
   "metadata": {},
   "source": [
    "Should drop Citric acid but let's keep it for now "
   ]
  },
  {
   "cell_type": "code",
   "execution_count": 25,
   "metadata": {
    "collapsed": true
   },
   "outputs": [],
   "source": [
    "good_vars_tbl_mod = logit_mod.summary().tables[1]"
   ]
  },
  {
   "cell_type": "code",
   "execution_count": 26,
   "metadata": {
    "collapsed": false
   },
   "outputs": [
    {
     "data": {
      "text/html": [
       "<div>\n",
       "<table border=\"1\" class=\"dataframe\">\n",
       "  <thead>\n",
       "    <tr style=\"text-align: right;\">\n",
       "      <th></th>\n",
       "      <th>coef</th>\n",
       "      <th>std err</th>\n",
       "      <th>z</th>\n",
       "      <th>P&gt;|z|</th>\n",
       "      <th>[0.025</th>\n",
       "      <th>0.975]</th>\n",
       "    </tr>\n",
       "    <tr>\n",
       "      <th>0</th>\n",
       "      <th></th>\n",
       "      <th></th>\n",
       "      <th></th>\n",
       "      <th></th>\n",
       "      <th></th>\n",
       "      <th></th>\n",
       "    </tr>\n",
       "  </thead>\n",
       "  <tbody>\n",
       "    <tr>\n",
       "      <th>volatile acidity</th>\n",
       "      <td>-3.2817</td>\n",
       "      <td>0.488</td>\n",
       "      <td>-6.722</td>\n",
       "      <td>0.000</td>\n",
       "      <td>-4.239</td>\n",
       "      <td>-2.325</td>\n",
       "    </tr>\n",
       "    <tr>\n",
       "      <th>citric acid</th>\n",
       "      <td>-1.2743</td>\n",
       "      <td>0.563</td>\n",
       "      <td>-2.265</td>\n",
       "      <td>0.024</td>\n",
       "      <td>-2.377</td>\n",
       "      <td>-0.171</td>\n",
       "    </tr>\n",
       "    <tr>\n",
       "      <th>chlorides</th>\n",
       "      <td>-3.9157</td>\n",
       "      <td>1.569</td>\n",
       "      <td>-2.495</td>\n",
       "      <td>0.013</td>\n",
       "      <td>-6.992</td>\n",
       "      <td>-0.840</td>\n",
       "    </tr>\n",
       "    <tr>\n",
       "      <th>free sulfur dioxide</th>\n",
       "      <td>0.0222</td>\n",
       "      <td>0.008</td>\n",
       "      <td>2.698</td>\n",
       "      <td>0.007</td>\n",
       "      <td>0.006</td>\n",
       "      <td>0.038</td>\n",
       "    </tr>\n",
       "    <tr>\n",
       "      <th>total sulfur dioxide</th>\n",
       "      <td>-0.0164</td>\n",
       "      <td>0.003</td>\n",
       "      <td>-5.688</td>\n",
       "      <td>0.000</td>\n",
       "      <td>-0.022</td>\n",
       "      <td>-0.011</td>\n",
       "    </tr>\n",
       "    <tr>\n",
       "      <th>sulphates</th>\n",
       "      <td>2.7951</td>\n",
       "      <td>0.452</td>\n",
       "      <td>6.181</td>\n",
       "      <td>0.000</td>\n",
       "      <td>1.909</td>\n",
       "      <td>3.681</td>\n",
       "    </tr>\n",
       "    <tr>\n",
       "      <th>alcohol</th>\n",
       "      <td>0.8668</td>\n",
       "      <td>0.104</td>\n",
       "      <td>8.319</td>\n",
       "      <td>0.000</td>\n",
       "      <td>0.663</td>\n",
       "      <td>1.071</td>\n",
       "    </tr>\n",
       "  </tbody>\n",
       "</table>\n",
       "</div>"
      ],
      "text/plain": [
       "0                           coef    std err          z   P>|z|     [0.025  \\\n",
       "0                                                                           \n",
       "volatile acidity         -3.2817      0.488     -6.722   0.000     -4.239   \n",
       "citric acid              -1.2743      0.563     -2.265   0.024     -2.377   \n",
       "chlorides                -3.9157      1.569     -2.495   0.013     -6.992   \n",
       "free sulfur dioxide       0.0222      0.008      2.698   0.007      0.006   \n",
       "total sulfur dioxide     -0.0164      0.003     -5.688   0.000     -0.022   \n",
       "sulphates                 2.7951      0.452      6.181   0.000      1.909   \n",
       "alcohol                   0.8668      0.104      8.319   0.000      0.663   \n",
       "\n",
       "0                        0.975]  \n",
       "0                                \n",
       "volatile acidity         -2.325  \n",
       "citric acid              -0.171  \n",
       "chlorides                -0.840  \n",
       "free sulfur dioxide       0.038  \n",
       "total sulfur dioxide     -0.011  \n",
       "sulphates                 3.681  \n",
       "alcohol                   1.071  "
      ]
     },
     "execution_count": 26,
     "metadata": {},
     "output_type": "execute_result"
    }
   ],
   "source": [
    "good_vars_tbl"
   ]
  },
  {
   "cell_type": "code",
   "execution_count": 27,
   "metadata": {
    "collapsed": false
   },
   "outputs": [
    {
     "data": {
      "text/html": [
       "<table class=\"simpletable\">\n",
       "<tr>\n",
       "            <td></td>              <th>coef</th>     <th>std err</th>      <th>z</th>      <th>P>|z|</th>  <th>[0.025</th>    <th>0.975]</th>  \n",
       "</tr>\n",
       "<tr>\n",
       "  <th>volatile acidity</th>     <td>   -3.0923</td> <td>    0.456</td> <td>   -6.775</td> <td> 0.000</td> <td>   -3.987</td> <td>   -2.198</td>\n",
       "</tr>\n",
       "<tr>\n",
       "  <th>citric acid</th>          <td>   -0.3031</td> <td>    0.405</td> <td>   -0.748</td> <td> 0.454</td> <td>   -1.097</td> <td>    0.491</td>\n",
       "</tr>\n",
       "<tr>\n",
       "  <th>chlorides</th>            <td>   -4.1866</td> <td>    1.467</td> <td>   -2.854</td> <td> 0.004</td> <td>   -7.061</td> <td>   -1.312</td>\n",
       "</tr>\n",
       "<tr>\n",
       "  <th>free sulfur dioxide</th>  <td>    0.0226</td> <td>    0.008</td> <td>    2.767</td> <td> 0.006</td> <td>    0.007</td> <td>    0.039</td>\n",
       "</tr>\n",
       "<tr>\n",
       "  <th>total sulfur dioxide</th> <td>   -0.0171</td> <td>    0.003</td> <td>   -6.178</td> <td> 0.000</td> <td>   -0.023</td> <td>   -0.012</td>\n",
       "</tr>\n",
       "<tr>\n",
       "  <th>sulphates</th>            <td>    2.7402</td> <td>    0.432</td> <td>    6.349</td> <td> 0.000</td> <td>    1.894</td> <td>    3.586</td>\n",
       "</tr>\n",
       "<tr>\n",
       "  <th>alcohol</th>              <td>    0.8643</td> <td>    0.071</td> <td>   12.142</td> <td> 0.000</td> <td>    0.725</td> <td>    1.004</td>\n",
       "</tr>\n",
       "<tr>\n",
       "  <th>intercept</th>            <td>   -8.0594</td> <td>    0.819</td> <td>   -9.845</td> <td> 0.000</td> <td>   -9.664</td> <td>   -6.455</td>\n",
       "</tr>\n",
       "</table>"
      ],
      "text/plain": [
       "<class 'statsmodels.iolib.table.SimpleTable'>"
      ]
     },
     "execution_count": 27,
     "metadata": {},
     "output_type": "execute_result"
    }
   ],
   "source": [
    "good_vars_tbl_mod"
   ]
  },
  {
   "cell_type": "code",
   "execution_count": 28,
   "metadata": {
    "collapsed": false
   },
   "outputs": [
    {
     "name": "stdout",
     "output_type": "stream",
     "text": [
      "Could not convert entire table to float64\n"
     ]
    },
    {
     "data": {
      "text/html": [
       "<div>\n",
       "<table border=\"1\" class=\"dataframe\">\n",
       "  <thead>\n",
       "    <tr style=\"text-align: right;\">\n",
       "      <th></th>\n",
       "      <th>coef</th>\n",
       "      <th>std err</th>\n",
       "      <th>z</th>\n",
       "      <th>P&gt;|z|</th>\n",
       "      <th>[0.025</th>\n",
       "      <th>0.975]</th>\n",
       "    </tr>\n",
       "    <tr>\n",
       "      <th>0</th>\n",
       "      <th></th>\n",
       "      <th></th>\n",
       "      <th></th>\n",
       "      <th></th>\n",
       "      <th></th>\n",
       "      <th></th>\n",
       "    </tr>\n",
       "  </thead>\n",
       "  <tbody>\n",
       "    <tr>\n",
       "      <th>volatile acidity</th>\n",
       "      <td>-3.0923</td>\n",
       "      <td>0.456</td>\n",
       "      <td>-6.775</td>\n",
       "      <td>0.000</td>\n",
       "      <td>-3.987</td>\n",
       "      <td>-2.198</td>\n",
       "    </tr>\n",
       "    <tr>\n",
       "      <th>citric acid</th>\n",
       "      <td>-0.3031</td>\n",
       "      <td>0.405</td>\n",
       "      <td>-0.748</td>\n",
       "      <td>0.454</td>\n",
       "      <td>-1.097</td>\n",
       "      <td>0.491</td>\n",
       "    </tr>\n",
       "    <tr>\n",
       "      <th>chlorides</th>\n",
       "      <td>-4.1866</td>\n",
       "      <td>1.467</td>\n",
       "      <td>-2.854</td>\n",
       "      <td>0.004</td>\n",
       "      <td>-7.061</td>\n",
       "      <td>-1.312</td>\n",
       "    </tr>\n",
       "    <tr>\n",
       "      <th>free sulfur dioxide</th>\n",
       "      <td>0.0226</td>\n",
       "      <td>0.008</td>\n",
       "      <td>2.767</td>\n",
       "      <td>0.006</td>\n",
       "      <td>0.007</td>\n",
       "      <td>0.039</td>\n",
       "    </tr>\n",
       "    <tr>\n",
       "      <th>total sulfur dioxide</th>\n",
       "      <td>-0.0171</td>\n",
       "      <td>0.003</td>\n",
       "      <td>-6.178</td>\n",
       "      <td>0.000</td>\n",
       "      <td>-0.023</td>\n",
       "      <td>-0.012</td>\n",
       "    </tr>\n",
       "    <tr>\n",
       "      <th>sulphates</th>\n",
       "      <td>2.7402</td>\n",
       "      <td>0.432</td>\n",
       "      <td>6.349</td>\n",
       "      <td>0.000</td>\n",
       "      <td>1.894</td>\n",
       "      <td>3.586</td>\n",
       "    </tr>\n",
       "    <tr>\n",
       "      <th>alcohol</th>\n",
       "      <td>0.8643</td>\n",
       "      <td>0.071</td>\n",
       "      <td>12.142</td>\n",
       "      <td>0.000</td>\n",
       "      <td>0.725</td>\n",
       "      <td>1.004</td>\n",
       "    </tr>\n",
       "    <tr>\n",
       "      <th>intercept</th>\n",
       "      <td>-8.0594</td>\n",
       "      <td>0.819</td>\n",
       "      <td>-9.845</td>\n",
       "      <td>0.000</td>\n",
       "      <td>-9.664</td>\n",
       "      <td>-6.455</td>\n",
       "    </tr>\n",
       "  </tbody>\n",
       "</table>\n",
       "</div>"
      ],
      "text/plain": [
       "0                           coef    std err          z   P>|z|     [0.025  \\\n",
       "0                                                                           \n",
       "volatile acidity         -3.0923      0.456     -6.775   0.000     -3.987   \n",
       "citric acid              -0.3031      0.405     -0.748   0.454     -1.097   \n",
       "chlorides                -4.1866      1.467     -2.854   0.004     -7.061   \n",
       "free sulfur dioxide       0.0226      0.008      2.767   0.006      0.007   \n",
       "total sulfur dioxide     -0.0171      0.003     -6.178   0.000     -0.023   \n",
       "sulphates                 2.7402      0.432      6.349   0.000      1.894   \n",
       "alcohol                   0.8643      0.071     12.142   0.000      0.725   \n",
       "intercept                -8.0594      0.819     -9.845   0.000     -9.664   \n",
       "\n",
       "0                        0.975]  \n",
       "0                                \n",
       "volatile acidity         -2.198  \n",
       "citric acid               0.491  \n",
       "chlorides                -1.312  \n",
       "free sulfur dioxide       0.039  \n",
       "total sulfur dioxide     -0.012  \n",
       "sulphates                 3.586  \n",
       "alcohol                   1.004  \n",
       "intercept                -6.455  "
      ]
     },
     "execution_count": 28,
     "metadata": {},
     "output_type": "execute_result"
    }
   ],
   "source": [
    "good_vars_mod_pd = fix_sm_table(good_vars_tbl_mod)\n",
    "good_vars_mod_pd"
   ]
  },
  {
   "cell_type": "code",
   "execution_count": 29,
   "metadata": {
    "collapsed": false
   },
   "outputs": [
    {
     "name": "stderr",
     "output_type": "stream",
     "text": [
      "C:\\Users\\board\\Anaconda3\\lib\\site-packages\\ipykernel\\__main__.py:3: RuntimeWarning: invalid value encountered in true_divide\n",
      "  app.launch_new_instance()\n"
     ]
    },
    {
     "data": {
      "text/html": [
       "<div>\n",
       "<table border=\"1\" class=\"dataframe\">\n",
       "  <thead>\n",
       "    <tr style=\"text-align: right;\">\n",
       "      <th></th>\n",
       "      <th>coef</th>\n",
       "      <th>std err</th>\n",
       "      <th>z</th>\n",
       "      <th>P&gt;|z|</th>\n",
       "      <th>[0.025</th>\n",
       "      <th>0.975]</th>\n",
       "    </tr>\n",
       "    <tr>\n",
       "      <th>0</th>\n",
       "      <th></th>\n",
       "      <th></th>\n",
       "      <th></th>\n",
       "      <th></th>\n",
       "      <th></th>\n",
       "      <th></th>\n",
       "    </tr>\n",
       "  </thead>\n",
       "  <tbody>\n",
       "    <tr>\n",
       "      <th>volatile acidity</th>\n",
       "      <td>0.057714</td>\n",
       "      <td>0.065574</td>\n",
       "      <td>-0.007885</td>\n",
       "      <td>NaN</td>\n",
       "      <td>0.059448</td>\n",
       "      <td>0.054624</td>\n",
       "    </tr>\n",
       "    <tr>\n",
       "      <th>citric acid</th>\n",
       "      <td>0.762144</td>\n",
       "      <td>0.280639</td>\n",
       "      <td>0.669757</td>\n",
       "      <td>-17.916667</td>\n",
       "      <td>0.538494</td>\n",
       "      <td>3.871345</td>\n",
       "    </tr>\n",
       "    <tr>\n",
       "      <th>chlorides</th>\n",
       "      <td>-0.069183</td>\n",
       "      <td>0.065010</td>\n",
       "      <td>-0.143888</td>\n",
       "      <td>0.692308</td>\n",
       "      <td>-0.009868</td>\n",
       "      <td>-0.561905</td>\n",
       "    </tr>\n",
       "    <tr>\n",
       "      <th>free sulfur dioxide</th>\n",
       "      <td>-0.018018</td>\n",
       "      <td>0.000000</td>\n",
       "      <td>-0.025574</td>\n",
       "      <td>0.142857</td>\n",
       "      <td>-0.166667</td>\n",
       "      <td>-0.026316</td>\n",
       "    </tr>\n",
       "    <tr>\n",
       "      <th>total sulfur dioxide</th>\n",
       "      <td>-0.042683</td>\n",
       "      <td>0.000000</td>\n",
       "      <td>-0.086146</td>\n",
       "      <td>NaN</td>\n",
       "      <td>-0.045455</td>\n",
       "      <td>-0.090909</td>\n",
       "    </tr>\n",
       "    <tr>\n",
       "      <th>sulphates</th>\n",
       "      <td>0.019642</td>\n",
       "      <td>0.044248</td>\n",
       "      <td>-0.027180</td>\n",
       "      <td>NaN</td>\n",
       "      <td>0.007858</td>\n",
       "      <td>0.025808</td>\n",
       "    </tr>\n",
       "    <tr>\n",
       "      <th>alcohol</th>\n",
       "      <td>0.002884</td>\n",
       "      <td>0.317308</td>\n",
       "      <td>-0.459550</td>\n",
       "      <td>NaN</td>\n",
       "      <td>-0.093514</td>\n",
       "      <td>0.062558</td>\n",
       "    </tr>\n",
       "  </tbody>\n",
       "</table>\n",
       "</div>"
      ],
      "text/plain": [
       "0                         coef   std err         z      P>|z|    [0.025  \\\n",
       "0                                                                         \n",
       "volatile acidity      0.057714  0.065574 -0.007885        NaN  0.059448   \n",
       "citric acid           0.762144  0.280639  0.669757 -17.916667  0.538494   \n",
       "chlorides            -0.069183  0.065010 -0.143888   0.692308 -0.009868   \n",
       "free sulfur dioxide  -0.018018  0.000000 -0.025574   0.142857 -0.166667   \n",
       "total sulfur dioxide -0.042683  0.000000 -0.086146        NaN -0.045455   \n",
       "sulphates             0.019642  0.044248 -0.027180        NaN  0.007858   \n",
       "alcohol               0.002884  0.317308 -0.459550        NaN -0.093514   \n",
       "\n",
       "0                       0.975]  \n",
       "0                               \n",
       "volatile acidity      0.054624  \n",
       "citric acid           3.871345  \n",
       "chlorides            -0.561905  \n",
       "free sulfur dioxide  -0.026316  \n",
       "total sulfur dioxide -0.090909  \n",
       "sulphates             0.025808  \n",
       "alcohol               0.062558  "
      ]
     },
     "execution_count": 29,
     "metadata": {},
     "output_type": "execute_result"
    }
   ],
   "source": [
    "# TODO: only need coed and std % changes, check for column and index matches \n",
    "temp_mod_df = good_vars_mod_pd.drop([\"intercept\"], axis = 0)\n",
    "result_data = (np.float64(good_vars_tbl) - np.float64(temp_mod_df))/np.float64(good_vars_tbl) \n",
    "result_df = pd.DataFrame(data = result_data, columns = good_vars_tbl.columns, index = good_vars_tbl.index)\n",
    "result_df"
   ]
  },
  {
   "cell_type": "code",
   "execution_count": null,
   "metadata": {
    "collapsed": true
   },
   "outputs": [],
   "source": []
  },
  {
   "cell_type": "markdown",
   "metadata": {},
   "source": [
    "# Start Bayesian Analysis  "
   ]
  },
  {
   "cell_type": "code",
   "execution_count": 30,
   "metadata": {
    "collapsed": false
   },
   "outputs": [],
   "source": [
    "import pymc3 as pm"
   ]
  },
  {
   "cell_type": "code",
   "execution_count": 31,
   "metadata": {
    "collapsed": false
   },
   "outputs": [
    {
     "data": {
      "text/html": [
       "<div>\n",
       "<table border=\"1\" class=\"dataframe\">\n",
       "  <thead>\n",
       "    <tr style=\"text-align: right;\">\n",
       "      <th></th>\n",
       "      <th>coef</th>\n",
       "      <th>std err</th>\n",
       "      <th>z</th>\n",
       "      <th>P&gt;|z|</th>\n",
       "      <th>[0.025</th>\n",
       "      <th>0.975]</th>\n",
       "    </tr>\n",
       "    <tr>\n",
       "      <th>0</th>\n",
       "      <th></th>\n",
       "      <th></th>\n",
       "      <th></th>\n",
       "      <th></th>\n",
       "      <th></th>\n",
       "      <th></th>\n",
       "    </tr>\n",
       "  </thead>\n",
       "  <tbody>\n",
       "    <tr>\n",
       "      <th>volatile acidity</th>\n",
       "      <td>-3.0923</td>\n",
       "      <td>0.456</td>\n",
       "      <td>-6.775</td>\n",
       "      <td>0.000</td>\n",
       "      <td>-3.987</td>\n",
       "      <td>-2.198</td>\n",
       "    </tr>\n",
       "    <tr>\n",
       "      <th>citric acid</th>\n",
       "      <td>-0.3031</td>\n",
       "      <td>0.405</td>\n",
       "      <td>-0.748</td>\n",
       "      <td>0.454</td>\n",
       "      <td>-1.097</td>\n",
       "      <td>0.491</td>\n",
       "    </tr>\n",
       "    <tr>\n",
       "      <th>chlorides</th>\n",
       "      <td>-4.1866</td>\n",
       "      <td>1.467</td>\n",
       "      <td>-2.854</td>\n",
       "      <td>0.004</td>\n",
       "      <td>-7.061</td>\n",
       "      <td>-1.312</td>\n",
       "    </tr>\n",
       "    <tr>\n",
       "      <th>free sulfur dioxide</th>\n",
       "      <td>0.0226</td>\n",
       "      <td>0.008</td>\n",
       "      <td>2.767</td>\n",
       "      <td>0.006</td>\n",
       "      <td>0.007</td>\n",
       "      <td>0.039</td>\n",
       "    </tr>\n",
       "    <tr>\n",
       "      <th>total sulfur dioxide</th>\n",
       "      <td>-0.0171</td>\n",
       "      <td>0.003</td>\n",
       "      <td>-6.178</td>\n",
       "      <td>0.000</td>\n",
       "      <td>-0.023</td>\n",
       "      <td>-0.012</td>\n",
       "    </tr>\n",
       "    <tr>\n",
       "      <th>sulphates</th>\n",
       "      <td>2.7402</td>\n",
       "      <td>0.432</td>\n",
       "      <td>6.349</td>\n",
       "      <td>0.000</td>\n",
       "      <td>1.894</td>\n",
       "      <td>3.586</td>\n",
       "    </tr>\n",
       "    <tr>\n",
       "      <th>alcohol</th>\n",
       "      <td>0.8643</td>\n",
       "      <td>0.071</td>\n",
       "      <td>12.142</td>\n",
       "      <td>0.000</td>\n",
       "      <td>0.725</td>\n",
       "      <td>1.004</td>\n",
       "    </tr>\n",
       "    <tr>\n",
       "      <th>intercept</th>\n",
       "      <td>-8.0594</td>\n",
       "      <td>0.819</td>\n",
       "      <td>-9.845</td>\n",
       "      <td>0.000</td>\n",
       "      <td>-9.664</td>\n",
       "      <td>-6.455</td>\n",
       "    </tr>\n",
       "  </tbody>\n",
       "</table>\n",
       "</div>"
      ],
      "text/plain": [
       "0                           coef    std err          z   P>|z|     [0.025  \\\n",
       "0                                                                           \n",
       "volatile acidity         -3.0923      0.456     -6.775   0.000     -3.987   \n",
       "citric acid              -0.3031      0.405     -0.748   0.454     -1.097   \n",
       "chlorides                -4.1866      1.467     -2.854   0.004     -7.061   \n",
       "free sulfur dioxide       0.0226      0.008      2.767   0.006      0.007   \n",
       "total sulfur dioxide     -0.0171      0.003     -6.178   0.000     -0.023   \n",
       "sulphates                 2.7402      0.432      6.349   0.000      1.894   \n",
       "alcohol                   0.8643      0.071     12.142   0.000      0.725   \n",
       "intercept                -8.0594      0.819     -9.845   0.000     -9.664   \n",
       "\n",
       "0                        0.975]  \n",
       "0                                \n",
       "volatile acidity         -2.198  \n",
       "citric acid               0.491  \n",
       "chlorides                -1.312  \n",
       "free sulfur dioxide       0.039  \n",
       "total sulfur dioxide     -0.012  \n",
       "sulphates                 3.586  \n",
       "alcohol                   1.004  \n",
       "intercept                -6.455  "
      ]
     },
     "execution_count": 31,
     "metadata": {},
     "output_type": "execute_result"
    }
   ],
   "source": [
    "good_vars_mod_pd"
   ]
  },
  {
   "cell_type": "code",
   "execution_count": 63,
   "metadata": {
    "collapsed": false
   },
   "outputs": [
    {
     "name": "stderr",
     "output_type": "stream",
     "text": [
      "100%|███████████████████████████████████▉| 50499/50500 [54:34<00:00, 15.42it/s]C:\\Users\\board\\Anaconda3\\lib\\site-packages\\pymc3\\step_methods\\hmc\\nuts.py:451: UserWarning: The acceptance probability in chain 0 does not match the target. It is 0.880997929854, but should be close to 0.8. Try to increase the number of tuning steps.\n",
      "  % (self._chain_id, mean_accept, target_accept))\n",
      "100%|████████████████████████████████████| 50500/50500 [54:34<00:00, 15.42it/s]\n"
     ]
    }
   ],
   "source": [
    "basic_model = pm.Model()\n",
    "\n",
    "with basic_model: \n",
    "    \n",
    "    # Priors \n",
    "    intercept = pm.Normal('intercept', mu = 0, sd = 10)\n",
    "    beta_va = pm.Normal('vol_acidity', mu = 0, sd = 10)\n",
    "    beta_ca = pm.Normal('citric_acid', mu = 0, sd = 10)\n",
    "    beta_sul_diox = pm.Normal('free/total sulfur dioxide', mu = 0, sd = 10\n",
    "                              , shape = 2) # 2 parameters defined\n",
    "    beta_sulphates = pm.Normal('sulphates', mu = 0, sd = 10)\n",
    "    beta_alcohol = pm.Normal('alcohol', mu = 0, sd = 10)\n",
    "    beta_chlorides = pm.Normal('chlorides', mu = 0, sd = 10)\n",
    "    \n",
    "    # Expected Mean equation \n",
    "    p_equ = beta_va * red_wine_raw['volatile acidity'].values \\\n",
    "    + beta_ca * red_wine_raw['citric acid'].values\\\n",
    "    + beta_chlorides * red_wine_raw['chlorides'].values \\\n",
    "    + beta_sul_diox[0] * red_wine_raw['free sulfur dioxide'].values \\\n",
    "    + beta_sul_diox[1] * red_wine_raw['total sulfur dioxide'].values \\\n",
    "    + beta_sulphates * red_wine_raw['sulphates'].values \\\n",
    "    + beta_alcohol * red_wine_raw['alcohol'].values \\\n",
    "    + intercept\n",
    "\n",
    "    # Logistic equation\n",
    "    p_x = np.exp(p_equ)/(1+np.exp(p_equ))\n",
    "    \n",
    "    # Likelihood \n",
    "    Y_obs = pm.Bernoulli('Y_obs', p = p_x, observed = red_wine_raw.Quality_binary.values)\n",
    "    \n",
    "    # Sampler\n",
    "    trace = pm.sample(7000)    \n",
    "    "
   ]
  },
  {
   "cell_type": "code",
   "execution_count": 65,
   "metadata": {
    "collapsed": false
   },
   "outputs": [
    {
     "name": "stdout",
     "output_type": "stream",
     "text": [
      "intercept -3.2215236261987186\n",
      "vol_acidity -3.2215236261987186\n",
      "citric_acid -3.2215236261987186\n",
      "free/total sulfur dioxide -6.443047252397437\n",
      "sulphates -3.2215236261987186\n",
      "alcohol -3.2215236261987186\n",
      "chlorides -3.2215236261987186\n",
      "Y_obs -1108.3423417153065\n"
     ]
    }
   ],
   "source": [
    "# Useful for checking things out \n",
    "for RV in basic_model.basic_RVs:\n",
    "    print(RV.name, RV.logp(basic_model.test_point))"
   ]
  },
  {
   "cell_type": "markdown",
   "metadata": {},
   "source": [
    "### Analyze results of the (?) MCMC  \n",
    "Check 2 versions of MAP (Maximum A-priori Posterior)  \n",
    "We can compare the MAP estimates with the results from the linear regression  \n",
    "Examine traceplots "
   ]
  },
  {
   "cell_type": "code",
   "execution_count": 66,
   "metadata": {
    "collapsed": false
   },
   "outputs": [
    {
     "name": "stderr",
     "output_type": "stream",
     "text": [
      "logp = -858.35, ||grad|| = 2.2957: 100%|████| 138/138 [00:00<00:00, 628.56it/s]\n"
     ]
    },
    {
     "data": {
      "text/plain": [
       "{'alcohol': array(0.8611214034756796),\n",
       " 'chlorides': array(-4.105313239979187),\n",
       " 'citric_acid': array(-0.30741623002221424),\n",
       " 'free/total sulfur dioxide': array([ 0.02257942, -0.01709912]),\n",
       " 'intercept': array(-8.013121151588894),\n",
       " 'sulphates': array(2.7182381827663926),\n",
       " 'vol_acidity': array(-3.1009772961289546)}"
      ]
     },
     "execution_count": 66,
     "metadata": {},
     "output_type": "execute_result"
    }
   ],
   "source": [
    "map_estimate = pm.find_MAP(model = basic_model)\n",
    "map_estimate"
   ]
  },
  {
   "cell_type": "code",
   "execution_count": 67,
   "metadata": {
    "collapsed": false
   },
   "outputs": [
    {
     "data": {
      "text/html": [
       "<div>\n",
       "<table border=\"1\" class=\"dataframe\">\n",
       "  <thead>\n",
       "    <tr style=\"text-align: right;\">\n",
       "      <th></th>\n",
       "      <th>coef</th>\n",
       "      <th>std err</th>\n",
       "      <th>z</th>\n",
       "      <th>P&gt;|z|</th>\n",
       "      <th>[0.025</th>\n",
       "      <th>0.975]</th>\n",
       "    </tr>\n",
       "    <tr>\n",
       "      <th>0</th>\n",
       "      <th></th>\n",
       "      <th></th>\n",
       "      <th></th>\n",
       "      <th></th>\n",
       "      <th></th>\n",
       "      <th></th>\n",
       "    </tr>\n",
       "  </thead>\n",
       "  <tbody>\n",
       "    <tr>\n",
       "      <th>volatile acidity</th>\n",
       "      <td>-3.0923</td>\n",
       "      <td>0.456</td>\n",
       "      <td>-6.775</td>\n",
       "      <td>0.000</td>\n",
       "      <td>-3.987</td>\n",
       "      <td>-2.198</td>\n",
       "    </tr>\n",
       "    <tr>\n",
       "      <th>citric acid</th>\n",
       "      <td>-0.3031</td>\n",
       "      <td>0.405</td>\n",
       "      <td>-0.748</td>\n",
       "      <td>0.454</td>\n",
       "      <td>-1.097</td>\n",
       "      <td>0.491</td>\n",
       "    </tr>\n",
       "    <tr>\n",
       "      <th>chlorides</th>\n",
       "      <td>-4.1866</td>\n",
       "      <td>1.467</td>\n",
       "      <td>-2.854</td>\n",
       "      <td>0.004</td>\n",
       "      <td>-7.061</td>\n",
       "      <td>-1.312</td>\n",
       "    </tr>\n",
       "    <tr>\n",
       "      <th>free sulfur dioxide</th>\n",
       "      <td>0.0226</td>\n",
       "      <td>0.008</td>\n",
       "      <td>2.767</td>\n",
       "      <td>0.006</td>\n",
       "      <td>0.007</td>\n",
       "      <td>0.039</td>\n",
       "    </tr>\n",
       "    <tr>\n",
       "      <th>total sulfur dioxide</th>\n",
       "      <td>-0.0171</td>\n",
       "      <td>0.003</td>\n",
       "      <td>-6.178</td>\n",
       "      <td>0.000</td>\n",
       "      <td>-0.023</td>\n",
       "      <td>-0.012</td>\n",
       "    </tr>\n",
       "    <tr>\n",
       "      <th>sulphates</th>\n",
       "      <td>2.7402</td>\n",
       "      <td>0.432</td>\n",
       "      <td>6.349</td>\n",
       "      <td>0.000</td>\n",
       "      <td>1.894</td>\n",
       "      <td>3.586</td>\n",
       "    </tr>\n",
       "    <tr>\n",
       "      <th>alcohol</th>\n",
       "      <td>0.8643</td>\n",
       "      <td>0.071</td>\n",
       "      <td>12.142</td>\n",
       "      <td>0.000</td>\n",
       "      <td>0.725</td>\n",
       "      <td>1.004</td>\n",
       "    </tr>\n",
       "    <tr>\n",
       "      <th>intercept</th>\n",
       "      <td>-8.0594</td>\n",
       "      <td>0.819</td>\n",
       "      <td>-9.845</td>\n",
       "      <td>0.000</td>\n",
       "      <td>-9.664</td>\n",
       "      <td>-6.455</td>\n",
       "    </tr>\n",
       "  </tbody>\n",
       "</table>\n",
       "</div>"
      ],
      "text/plain": [
       "0                           coef    std err          z   P>|z|     [0.025  \\\n",
       "0                                                                           \n",
       "volatile acidity         -3.0923      0.456     -6.775   0.000     -3.987   \n",
       "citric acid              -0.3031      0.405     -0.748   0.454     -1.097   \n",
       "chlorides                -4.1866      1.467     -2.854   0.004     -7.061   \n",
       "free sulfur dioxide       0.0226      0.008      2.767   0.006      0.007   \n",
       "total sulfur dioxide     -0.0171      0.003     -6.178   0.000     -0.023   \n",
       "sulphates                 2.7402      0.432      6.349   0.000      1.894   \n",
       "alcohol                   0.8643      0.071     12.142   0.000      0.725   \n",
       "intercept                -8.0594      0.819     -9.845   0.000     -9.664   \n",
       "\n",
       "0                        0.975]  \n",
       "0                                \n",
       "volatile acidity         -2.198  \n",
       "citric acid               0.491  \n",
       "chlorides                -1.312  \n",
       "free sulfur dioxide       0.039  \n",
       "total sulfur dioxide     -0.012  \n",
       "sulphates                 3.586  \n",
       "alcohol                   1.004  \n",
       "intercept                -6.455  "
      ]
     },
     "execution_count": 67,
     "metadata": {},
     "output_type": "execute_result"
    }
   ],
   "source": [
    "good_vars_mod_pd"
   ]
  },
  {
   "cell_type": "markdown",
   "metadata": {},
   "source": [
    "### Use optimizer from Scipy  \n",
    "Normally it uses Broyden–Fletcher–Goldfarb–Shanno (BFGS) optimization  \n",
    "Let's try using Powell's "
   ]
  },
  {
   "cell_type": "code",
   "execution_count": 68,
   "metadata": {
    "collapsed": false
   },
   "outputs": [],
   "source": [
    "from scipy import optimize "
   ]
  },
  {
   "cell_type": "code",
   "execution_count": 69,
   "metadata": {
    "collapsed": false
   },
   "outputs": [
    {
     "name": "stderr",
     "output_type": "stream",
     "text": [
      "C:\\Users\\board\\Anaconda3\\lib\\site-packages\\pymc3\\tuning\\starting.py:91: UserWarning: In future versions, set the optimization algorithm with a string. For example, use `method=\"L-BFGS-B\"` instead of `fmin=sp.optimize.fmin_l_bfgs_b\"`.\n",
      "  warnings.warn('In future versions, set the optimization algorithm with a string. '\n",
      "logp = -864.12:  30%|█████▉              | 1494/5000 [00:01<00:02, 1207.51it/s]"
     ]
    },
    {
     "name": "stdout",
     "output_type": "stream",
     "text": [
      "Optimization terminated successfully.\n",
      "         Current function value: 864.117686\n",
      "         Iterations: 17\n",
      "         Function evaluations: 1494\n"
     ]
    },
    {
     "name": "stderr",
     "output_type": "stream",
     "text": [
      "\n"
     ]
    },
    {
     "data": {
      "text/plain": [
       "{'alcohol': array(0.792510896422321),\n",
       " 'chlorides': array(-3.3146545397158462),\n",
       " 'citric_acid': array(-1.0336836479714353),\n",
       " 'free/total sulfur dioxide': array([ 0.01689182, -0.01531619]),\n",
       " 'intercept': array(-6.092170975793329),\n",
       " 'sulphates': array(2.101023707781676),\n",
       " 'vol_acidity': array(-4.37454703790126)}"
      ]
     },
     "execution_count": 69,
     "metadata": {},
     "output_type": "execute_result"
    }
   ],
   "source": [
    "map_estimate2 = pm.find_MAP(model= basic_model, fmin= optimize.fmin_powell)\n",
    "map_estimate2"
   ]
  },
  {
   "cell_type": "code",
   "execution_count": 70,
   "metadata": {
    "collapsed": false
   },
   "outputs": [
    {
     "data": {
      "text/html": [
       "<div>\n",
       "<table border=\"1\" class=\"dataframe\">\n",
       "  <thead>\n",
       "    <tr style=\"text-align: right;\">\n",
       "      <th></th>\n",
       "      <th>coef</th>\n",
       "      <th>std err</th>\n",
       "      <th>z</th>\n",
       "      <th>P&gt;|z|</th>\n",
       "      <th>[0.025</th>\n",
       "      <th>0.975]</th>\n",
       "    </tr>\n",
       "    <tr>\n",
       "      <th>0</th>\n",
       "      <th></th>\n",
       "      <th></th>\n",
       "      <th></th>\n",
       "      <th></th>\n",
       "      <th></th>\n",
       "      <th></th>\n",
       "    </tr>\n",
       "  </thead>\n",
       "  <tbody>\n",
       "    <tr>\n",
       "      <th>volatile acidity</th>\n",
       "      <td>-3.0923</td>\n",
       "      <td>0.456</td>\n",
       "      <td>-6.775</td>\n",
       "      <td>0.000</td>\n",
       "      <td>-3.987</td>\n",
       "      <td>-2.198</td>\n",
       "    </tr>\n",
       "    <tr>\n",
       "      <th>citric acid</th>\n",
       "      <td>-0.3031</td>\n",
       "      <td>0.405</td>\n",
       "      <td>-0.748</td>\n",
       "      <td>0.454</td>\n",
       "      <td>-1.097</td>\n",
       "      <td>0.491</td>\n",
       "    </tr>\n",
       "    <tr>\n",
       "      <th>chlorides</th>\n",
       "      <td>-4.1866</td>\n",
       "      <td>1.467</td>\n",
       "      <td>-2.854</td>\n",
       "      <td>0.004</td>\n",
       "      <td>-7.061</td>\n",
       "      <td>-1.312</td>\n",
       "    </tr>\n",
       "    <tr>\n",
       "      <th>free sulfur dioxide</th>\n",
       "      <td>0.0226</td>\n",
       "      <td>0.008</td>\n",
       "      <td>2.767</td>\n",
       "      <td>0.006</td>\n",
       "      <td>0.007</td>\n",
       "      <td>0.039</td>\n",
       "    </tr>\n",
       "    <tr>\n",
       "      <th>total sulfur dioxide</th>\n",
       "      <td>-0.0171</td>\n",
       "      <td>0.003</td>\n",
       "      <td>-6.178</td>\n",
       "      <td>0.000</td>\n",
       "      <td>-0.023</td>\n",
       "      <td>-0.012</td>\n",
       "    </tr>\n",
       "    <tr>\n",
       "      <th>sulphates</th>\n",
       "      <td>2.7402</td>\n",
       "      <td>0.432</td>\n",
       "      <td>6.349</td>\n",
       "      <td>0.000</td>\n",
       "      <td>1.894</td>\n",
       "      <td>3.586</td>\n",
       "    </tr>\n",
       "    <tr>\n",
       "      <th>alcohol</th>\n",
       "      <td>0.8643</td>\n",
       "      <td>0.071</td>\n",
       "      <td>12.142</td>\n",
       "      <td>0.000</td>\n",
       "      <td>0.725</td>\n",
       "      <td>1.004</td>\n",
       "    </tr>\n",
       "    <tr>\n",
       "      <th>intercept</th>\n",
       "      <td>-8.0594</td>\n",
       "      <td>0.819</td>\n",
       "      <td>-9.845</td>\n",
       "      <td>0.000</td>\n",
       "      <td>-9.664</td>\n",
       "      <td>-6.455</td>\n",
       "    </tr>\n",
       "  </tbody>\n",
       "</table>\n",
       "</div>"
      ],
      "text/plain": [
       "0                           coef    std err          z   P>|z|     [0.025  \\\n",
       "0                                                                           \n",
       "volatile acidity         -3.0923      0.456     -6.775   0.000     -3.987   \n",
       "citric acid              -0.3031      0.405     -0.748   0.454     -1.097   \n",
       "chlorides                -4.1866      1.467     -2.854   0.004     -7.061   \n",
       "free sulfur dioxide       0.0226      0.008      2.767   0.006      0.007   \n",
       "total sulfur dioxide     -0.0171      0.003     -6.178   0.000     -0.023   \n",
       "sulphates                 2.7402      0.432      6.349   0.000      1.894   \n",
       "alcohol                   0.8643      0.071     12.142   0.000      0.725   \n",
       "intercept                -8.0594      0.819     -9.845   0.000     -9.664   \n",
       "\n",
       "0                        0.975]  \n",
       "0                                \n",
       "volatile acidity         -2.198  \n",
       "citric acid               0.491  \n",
       "chlorides                -1.312  \n",
       "free sulfur dioxide       0.039  \n",
       "total sulfur dioxide     -0.012  \n",
       "sulphates                 3.586  \n",
       "alcohol                   1.004  \n",
       "intercept                -6.455  "
      ]
     },
     "execution_count": 70,
     "metadata": {},
     "output_type": "execute_result"
    }
   ],
   "source": [
    "good_vars_mod_pd"
   ]
  },
  {
   "cell_type": "code",
   "execution_count": 71,
   "metadata": {
    "collapsed": false
   },
   "outputs": [
    {
     "data": {
      "image/png": "[encoded data removed]",
      "text/plain": [
       "<matplotlib.figure.Figure at 0x223de9e7a90>"
      ]
     },
     "metadata": {},
     "output_type": "display_data"
    }
   ],
   "source": [
    "_ = pm.traceplot(trace)"
   ]
  },
  {
   "cell_type": "code",
   "execution_count": 72,
   "metadata": {
    "collapsed": false,
    "scrolled": true
   },
   "outputs": [
    {
     "name": "stdout",
     "output_type": "stream",
     "text": [
      "\n",
      "intercept:\n",
      "\n",
      "  Mean             SD               MC Error         95% HPD interval\n",
      "  -------------------------------------------------------------------\n",
      "  \n",
      "  -8.059           0.816            0.005            [-9.637, -6.435]\n",
      "\n",
      "  Posterior quantiles:\n",
      "  2.5            25             50             75             97.5\n",
      "  |--------------|==============|==============|--------------|\n",
      "  \n",
      "  -9.681         -8.605         -8.053         -7.504         -6.472\n",
      "\n",
      "\n",
      "vol_acidity:\n",
      "\n",
      "  Mean             SD               MC Error         95% HPD interval\n",
      "  -------------------------------------------------------------------\n",
      "  \n",
      "  -3.122           0.457            0.002            [-4.017, -2.228]\n",
      "\n",
      "  Posterior quantiles:\n",
      "  2.5            25             50             75             97.5\n",
      "  |--------------|==============|==============|--------------|\n",
      "  \n",
      "  -4.028         -3.428         -3.118         -2.812         -2.238\n",
      "\n",
      "\n",
      "citric_acid:\n",
      "\n",
      "  Mean             SD               MC Error         95% HPD interval\n",
      "  -------------------------------------------------------------------\n",
      "  \n",
      "  -0.316           0.406            0.002            [-1.108, 0.479]\n",
      "\n",
      "  Posterior quantiles:\n",
      "  2.5            25             50             75             97.5\n",
      "  |--------------|==============|==============|--------------|\n",
      "  \n",
      "  -1.111         -0.590         -0.314         -0.041         0.478\n",
      "\n",
      "\n",
      "free/total sulfur dioxide:\n",
      "\n",
      "  Mean             SD               MC Error         95% HPD interval\n",
      "  -------------------------------------------------------------------\n",
      "  \n",
      "  0.023            0.008            0.000            [0.007, 0.039]\n",
      "  -0.017           0.003            0.000            [-0.023, -0.012]\n",
      "\n",
      "  Posterior quantiles:\n",
      "  2.5            25             50             75             97.5\n",
      "  |--------------|==============|==============|--------------|\n",
      "  \n",
      "  0.007          0.017          0.023          0.028          0.039\n",
      "  -0.023         -0.019         -0.017         -0.015         -0.012\n",
      "\n",
      "\n",
      "sulphates:\n",
      "\n",
      "  Mean             SD               MC Error         95% HPD interval\n",
      "  -------------------------------------------------------------------\n",
      "  \n",
      "  2.752            0.430            0.002            [1.922, 3.613]\n",
      "\n",
      "  Posterior quantiles:\n",
      "  2.5            25             50             75             97.5\n",
      "  |--------------|==============|==============|--------------|\n",
      "  \n",
      "  1.922          2.459          2.745          3.038          3.615\n",
      "\n",
      "\n",
      "alcohol:\n",
      "\n",
      "  Mean             SD               MC Error         95% HPD interval\n",
      "  -------------------------------------------------------------------\n",
      "  \n",
      "  0.866            0.071            0.000            [0.726, 1.004]\n",
      "\n",
      "  Posterior quantiles:\n",
      "  2.5            25             50             75             97.5\n",
      "  |--------------|==============|==============|--------------|\n",
      "  \n",
      "  0.730          0.817          0.865          0.914          1.008\n",
      "\n",
      "\n",
      "chlorides:\n",
      "\n",
      "  Mean             SD               MC Error         95% HPD interval\n",
      "  -------------------------------------------------------------------\n",
      "  \n",
      "  -4.191           1.467            0.008            [-7.129, -1.367]\n",
      "\n",
      "  Posterior quantiles:\n",
      "  2.5            25             50             75             97.5\n",
      "  |--------------|==============|==============|--------------|\n",
      "  \n",
      "  -7.121         -5.178         -4.173         -3.199         -1.356\n",
      "\n"
     ]
    }
   ],
   "source": [
    "pm.summary(trace)"
   ]
  },
  {
   "cell_type": "code",
   "execution_count": null,
   "metadata": {
    "collapsed": true
   },
   "outputs": [],
   "source": []
  },
  {
   "cell_type": "code",
   "execution_count": null,
   "metadata": {
    "collapsed": true
   },
   "outputs": [],
   "source": []
  },
  {
   "cell_type": "code",
   "execution_count": null,
   "metadata": {
    "collapsed": true
   },
   "outputs": [],
   "source": []
  },
  {
   "cell_type": "code",
   "execution_count": null,
   "metadata": {
    "collapsed": true
   },
   "outputs": [],
   "source": []
  },
  {
   "cell_type": "code",
   "execution_count": null,
   "metadata": {
    "collapsed": true
   },
   "outputs": [],
   "source": []
  },
  {
   "cell_type": "code",
   "execution_count": null,
   "metadata": {
    "collapsed": true
   },
   "outputs": [],
   "source": []
  },
  {
   "cell_type": "code",
   "execution_count": null,
   "metadata": {
    "collapsed": true
   },
   "outputs": [],
   "source": []
  },
  {
   "cell_type": "markdown",
   "metadata": {
    "collapsed": true
   },
   "source": [
    "Below is some script of an example that I found useful for understanding... can get rid of later if not needed  \n",
    "Found when I was getting a \"bad energy, model may be misspecified\" error "
   ]
  },
  {
   "cell_type": "code",
   "execution_count": null,
   "metadata": {
    "collapsed": false
   },
   "outputs": [],
   "source": [
    "loss_shifted40 = np.array([155, 267, 105, 223, 183, 189, 262, 178, 272, 187])\n",
    "fem_cases = np.array([2, 2, 2, 3, 1, 0, 1, 0, 0, 0])\n",
    "mz_freq = np.array([0.05, 0.047, 0.045, 0.063, 0.06, 0.062, 0.053, 0.057, 0.061, 0.058])\n",
    "\n",
    "pp_mean = 0.0595759774518\n",
    "N = 3392425\n",
    "with pm.Model() as model:\n",
    "\n",
    "    pp = pp_mean\n",
    "    lower_beta = pm.Uniform(\"lower_beta\", lower=0, upper=1)\n",
    "    upper_beta = pm.Uniform(\"upper_beta\", lower=lower_beta, upper=lower_beta+3)\n",
    "    beta = pm.Uniform(\"beta\", lower=lower_beta, upper=upper_beta, shape=len(fem_cases))\n",
    "\n",
    "    beta_gamma = pm.Uniform(\"beta_gamma\", lower=0, upper=120)\n",
    "    alpha_gamma = pm.Uniform(\"alpha_gamma\", lower=(2/3)*beta_gamma/7, upper=(4/3)*beta_gamma/7)\n",
    "    gamma = pm.Gamma(\"gamma\", alpha=alpha_gamma, beta=beta_gamma)\n",
    "    \n",
    "    I = pm.Uniform(\"I\", lower=0, upper=fem_cases.sum(), shape=len(fem_cases))\n",
    "    R = pm.Deterministic(\"R\", (gamma*I))\n",
    "    S = pm.Uniform(\"S\", lower=0, upper=N-(I+R), shape=len(fem_cases))\n",
    "\n",
    "    inc = pm.Deterministic(\"inc\", beta*I*(S)/(S+I+R)-R)\n",
    "    \n",
    "    po = pm.Uniform(\"po\", lower=0, upper=1)\n",
    " \n",
    "    Y = pm.Poisson('Y', mu=inc, shape=len(fem_cases))\n",
    "\n",
    "    mu_Yp = pm.Deterministic(\"mu_Yp\", var=Y*pp)\n",
    "    \n",
    "    Yp = pm.Poisson(\"Yp\", mu=mu_Yp, shape=len(fem_cases), testval=loss_shifted40+1000)\n",
    "\n",
    "    Yo = pm.Binomial('Yo', n=Y, p=po, observed=fem_cases)    \n",
    "\n",
    "    M = pm.Binomial(\"M\", n=Yp, p=mz_freq, observed=loss_shifted40)\n",
    "    \n",
    "    trace = pm.sample(1e4)"
   ]
  },
  {
   "cell_type": "code",
   "execution_count": null,
   "metadata": {
    "collapsed": true
   },
   "outputs": [],
   "source": []
  },
  {
   "cell_type": "code",
   "execution_count": null,
   "metadata": {
    "collapsed": false
   },
   "outputs": [],
   "source": [
    "_ = pm.traceplot(trace)"
   ]
  },
  {
   "cell_type": "code",
   "execution_count": null,
   "metadata": {
    "collapsed": false
   },
   "outputs": [],
   "source": [
    "pm.summary(trace)"
   ]
  },
  {
   "cell_type": "code",
   "execution_count": null,
   "metadata": {
    "collapsed": true
   },
   "outputs": [],
   "source": []
  }
 ],
 "metadata": {
  "anaconda-cloud": {},
  "kernelspec": {
   "display_name": "Python [Root]",
   "language": "python",
   "name": "Python [Root]"
  },
  "language_info": {
   "codemirror_mode": {
    "name": "ipython",
    "version": 3
   },
   "file_extension": ".py",
   "mimetype": "text/x-python",
   "name": "python",
   "nbconvert_exporter": "python",
   "pygments_lexer": "ipython3",
   "version": "3.5.2"
  }
 },
 "nbformat": 4,
 "nbformat_minor": 0
}
