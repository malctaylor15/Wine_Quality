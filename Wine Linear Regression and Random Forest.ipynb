{
 "cells": [
  {
   "cell_type": "markdown",
   "metadata": {},
   "source": [
    "# Wine Quality Data Set \n",
    "\n",
    "Detecting the wine quality using physicochemical (inputs) and sensory (the output) variables from so-called experts  \n",
    "The data cane be found at  \n",
    "https://archive.ics.uci.edu/ml/datasets/Wine+Quality\n"
   ]
  },
  {
   "cell_type": "code",
   "execution_count": 1,
   "metadata": {
    "collapsed": true
   },
   "outputs": [],
   "source": [
    "import pandas as pd \n",
    "import pprint\n",
    "import numpy as np\n",
    "import sklearn as sk \n",
    "import matplotlib.pyplot as plt\n",
    "import seaborn as sns \n",
    "import math \n",
    "%matplotlib inline\n",
    "plt.rcParams['figure.figsize'] = (10.0, 8.0)"
   ]
  },
  {
   "cell_type": "markdown",
   "metadata": {},
   "source": [
    "# First start by looking at the data set "
   ]
  },
  {
   "cell_type": "code",
   "execution_count": 2,
   "metadata": {
    "collapsed": false
   },
   "outputs": [
    {
     "data": {
      "text/html": [
       "<div>\n",
       "<table border=\"1\" class=\"dataframe\">\n",
       "  <thead>\n",
       "    <tr style=\"text-align: right;\">\n",
       "      <th></th>\n",
       "      <th>fixed acidity</th>\n",
       "      <th>volatile acidity</th>\n",
       "      <th>citric acid</th>\n",
       "      <th>residual sugar</th>\n",
       "      <th>chlorides</th>\n",
       "      <th>free sulfur dioxide</th>\n",
       "      <th>total sulfur dioxide</th>\n",
       "      <th>density</th>\n",
       "      <th>pH</th>\n",
       "      <th>sulphates</th>\n",
       "      <th>alcohol</th>\n",
       "      <th>quality</th>\n",
       "    </tr>\n",
       "  </thead>\n",
       "  <tbody>\n",
       "    <tr>\n",
       "      <th>0</th>\n",
       "      <td>7.4</td>\n",
       "      <td>0.70</td>\n",
       "      <td>0.00</td>\n",
       "      <td>1.9</td>\n",
       "      <td>0.076</td>\n",
       "      <td>11.0</td>\n",
       "      <td>34.0</td>\n",
       "      <td>0.9978</td>\n",
       "      <td>3.51</td>\n",
       "      <td>0.56</td>\n",
       "      <td>9.4</td>\n",
       "      <td>5</td>\n",
       "    </tr>\n",
       "    <tr>\n",
       "      <th>1</th>\n",
       "      <td>7.8</td>\n",
       "      <td>0.88</td>\n",
       "      <td>0.00</td>\n",
       "      <td>2.6</td>\n",
       "      <td>0.098</td>\n",
       "      <td>25.0</td>\n",
       "      <td>67.0</td>\n",
       "      <td>0.9968</td>\n",
       "      <td>3.20</td>\n",
       "      <td>0.68</td>\n",
       "      <td>9.8</td>\n",
       "      <td>5</td>\n",
       "    </tr>\n",
       "    <tr>\n",
       "      <th>2</th>\n",
       "      <td>7.8</td>\n",
       "      <td>0.76</td>\n",
       "      <td>0.04</td>\n",
       "      <td>2.3</td>\n",
       "      <td>0.092</td>\n",
       "      <td>15.0</td>\n",
       "      <td>54.0</td>\n",
       "      <td>0.9970</td>\n",
       "      <td>3.26</td>\n",
       "      <td>0.65</td>\n",
       "      <td>9.8</td>\n",
       "      <td>5</td>\n",
       "    </tr>\n",
       "    <tr>\n",
       "      <th>3</th>\n",
       "      <td>11.2</td>\n",
       "      <td>0.28</td>\n",
       "      <td>0.56</td>\n",
       "      <td>1.9</td>\n",
       "      <td>0.075</td>\n",
       "      <td>17.0</td>\n",
       "      <td>60.0</td>\n",
       "      <td>0.9980</td>\n",
       "      <td>3.16</td>\n",
       "      <td>0.58</td>\n",
       "      <td>9.8</td>\n",
       "      <td>6</td>\n",
       "    </tr>\n",
       "    <tr>\n",
       "      <th>4</th>\n",
       "      <td>7.4</td>\n",
       "      <td>0.70</td>\n",
       "      <td>0.00</td>\n",
       "      <td>1.9</td>\n",
       "      <td>0.076</td>\n",
       "      <td>11.0</td>\n",
       "      <td>34.0</td>\n",
       "      <td>0.9978</td>\n",
       "      <td>3.51</td>\n",
       "      <td>0.56</td>\n",
       "      <td>9.4</td>\n",
       "      <td>5</td>\n",
       "    </tr>\n",
       "    <tr>\n",
       "      <th>5</th>\n",
       "      <td>7.4</td>\n",
       "      <td>0.66</td>\n",
       "      <td>0.00</td>\n",
       "      <td>1.8</td>\n",
       "      <td>0.075</td>\n",
       "      <td>13.0</td>\n",
       "      <td>40.0</td>\n",
       "      <td>0.9978</td>\n",
       "      <td>3.51</td>\n",
       "      <td>0.56</td>\n",
       "      <td>9.4</td>\n",
       "      <td>5</td>\n",
       "    </tr>\n",
       "    <tr>\n",
       "      <th>6</th>\n",
       "      <td>7.9</td>\n",
       "      <td>0.60</td>\n",
       "      <td>0.06</td>\n",
       "      <td>1.6</td>\n",
       "      <td>0.069</td>\n",
       "      <td>15.0</td>\n",
       "      <td>59.0</td>\n",
       "      <td>0.9964</td>\n",
       "      <td>3.30</td>\n",
       "      <td>0.46</td>\n",
       "      <td>9.4</td>\n",
       "      <td>5</td>\n",
       "    </tr>\n",
       "    <tr>\n",
       "      <th>7</th>\n",
       "      <td>7.3</td>\n",
       "      <td>0.65</td>\n",
       "      <td>0.00</td>\n",
       "      <td>1.2</td>\n",
       "      <td>0.065</td>\n",
       "      <td>15.0</td>\n",
       "      <td>21.0</td>\n",
       "      <td>0.9946</td>\n",
       "      <td>3.39</td>\n",
       "      <td>0.47</td>\n",
       "      <td>10.0</td>\n",
       "      <td>7</td>\n",
       "    </tr>\n",
       "    <tr>\n",
       "      <th>8</th>\n",
       "      <td>7.8</td>\n",
       "      <td>0.58</td>\n",
       "      <td>0.02</td>\n",
       "      <td>2.0</td>\n",
       "      <td>0.073</td>\n",
       "      <td>9.0</td>\n",
       "      <td>18.0</td>\n",
       "      <td>0.9968</td>\n",
       "      <td>3.36</td>\n",
       "      <td>0.57</td>\n",
       "      <td>9.5</td>\n",
       "      <td>7</td>\n",
       "    </tr>\n",
       "    <tr>\n",
       "      <th>9</th>\n",
       "      <td>7.5</td>\n",
       "      <td>0.50</td>\n",
       "      <td>0.36</td>\n",
       "      <td>6.1</td>\n",
       "      <td>0.071</td>\n",
       "      <td>17.0</td>\n",
       "      <td>102.0</td>\n",
       "      <td>0.9978</td>\n",
       "      <td>3.35</td>\n",
       "      <td>0.80</td>\n",
       "      <td>10.5</td>\n",
       "      <td>5</td>\n",
       "    </tr>\n",
       "  </tbody>\n",
       "</table>\n",
       "</div>"
      ],
      "text/plain": [
       "   fixed acidity  volatile acidity  citric acid  residual sugar  chlorides  \\\n",
       "0            7.4              0.70         0.00             1.9      0.076   \n",
       "1            7.8              0.88         0.00             2.6      0.098   \n",
       "2            7.8              0.76         0.04             2.3      0.092   \n",
       "3           11.2              0.28         0.56             1.9      0.075   \n",
       "4            7.4              0.70         0.00             1.9      0.076   \n",
       "5            7.4              0.66         0.00             1.8      0.075   \n",
       "6            7.9              0.60         0.06             1.6      0.069   \n",
       "7            7.3              0.65         0.00             1.2      0.065   \n",
       "8            7.8              0.58         0.02             2.0      0.073   \n",
       "9            7.5              0.50         0.36             6.1      0.071   \n",
       "\n",
       "   free sulfur dioxide  total sulfur dioxide  density    pH  sulphates  \\\n",
       "0                 11.0                  34.0   0.9978  3.51       0.56   \n",
       "1                 25.0                  67.0   0.9968  3.20       0.68   \n",
       "2                 15.0                  54.0   0.9970  3.26       0.65   \n",
       "3                 17.0                  60.0   0.9980  3.16       0.58   \n",
       "4                 11.0                  34.0   0.9978  3.51       0.56   \n",
       "5                 13.0                  40.0   0.9978  3.51       0.56   \n",
       "6                 15.0                  59.0   0.9964  3.30       0.46   \n",
       "7                 15.0                  21.0   0.9946  3.39       0.47   \n",
       "8                  9.0                  18.0   0.9968  3.36       0.57   \n",
       "9                 17.0                 102.0   0.9978  3.35       0.80   \n",
       "\n",
       "   alcohol  quality  \n",
       "0      9.4        5  \n",
       "1      9.8        5  \n",
       "2      9.8        5  \n",
       "3      9.8        6  \n",
       "4      9.4        5  \n",
       "5      9.4        5  \n",
       "6      9.4        5  \n",
       "7     10.0        7  \n",
       "8      9.5        7  \n",
       "9     10.5        5  "
      ]
     },
     "execution_count": 2,
     "metadata": {},
     "output_type": "execute_result"
    }
   ],
   "source": [
    "red_wine_raw = pd.read_csv(\"winequality-red.csv\",sep = ';' )\n",
    "red_wine_raw.head(10)"
   ]
  },
  {
   "cell_type": "code",
   "execution_count": 3,
   "metadata": {
    "collapsed": false
   },
   "outputs": [
    {
     "data": {
      "text/html": [
       "<div>\n",
       "<table border=\"1\" class=\"dataframe\">\n",
       "  <thead>\n",
       "    <tr style=\"text-align: right;\">\n",
       "      <th></th>\n",
       "      <th>fixed acidity</th>\n",
       "      <th>volatile acidity</th>\n",
       "      <th>citric acid</th>\n",
       "      <th>residual sugar</th>\n",
       "      <th>chlorides</th>\n",
       "      <th>free sulfur dioxide</th>\n",
       "      <th>total sulfur dioxide</th>\n",
       "      <th>density</th>\n",
       "      <th>pH</th>\n",
       "      <th>sulphates</th>\n",
       "      <th>alcohol</th>\n",
       "      <th>quality</th>\n",
       "    </tr>\n",
       "  </thead>\n",
       "  <tbody>\n",
       "    <tr>\n",
       "      <th>count</th>\n",
       "      <td>1599.000000</td>\n",
       "      <td>1599.000000</td>\n",
       "      <td>1599.000000</td>\n",
       "      <td>1599.000000</td>\n",
       "      <td>1599.000000</td>\n",
       "      <td>1599.000000</td>\n",
       "      <td>1599.000000</td>\n",
       "      <td>1599.000000</td>\n",
       "      <td>1599.000000</td>\n",
       "      <td>1599.000000</td>\n",
       "      <td>1599.000000</td>\n",
       "      <td>1599.000000</td>\n",
       "    </tr>\n",
       "    <tr>\n",
       "      <th>mean</th>\n",
       "      <td>8.319637</td>\n",
       "      <td>0.527821</td>\n",
       "      <td>0.270976</td>\n",
       "      <td>2.538806</td>\n",
       "      <td>0.087467</td>\n",
       "      <td>15.874922</td>\n",
       "      <td>46.467792</td>\n",
       "      <td>0.996747</td>\n",
       "      <td>3.311113</td>\n",
       "      <td>0.658149</td>\n",
       "      <td>10.422983</td>\n",
       "      <td>5.636023</td>\n",
       "    </tr>\n",
       "    <tr>\n",
       "      <th>std</th>\n",
       "      <td>1.741096</td>\n",
       "      <td>0.179060</td>\n",
       "      <td>0.194801</td>\n",
       "      <td>1.409928</td>\n",
       "      <td>0.047065</td>\n",
       "      <td>10.460157</td>\n",
       "      <td>32.895324</td>\n",
       "      <td>0.001887</td>\n",
       "      <td>0.154386</td>\n",
       "      <td>0.169507</td>\n",
       "      <td>1.065668</td>\n",
       "      <td>0.807569</td>\n",
       "    </tr>\n",
       "    <tr>\n",
       "      <th>min</th>\n",
       "      <td>4.600000</td>\n",
       "      <td>0.120000</td>\n",
       "      <td>0.000000</td>\n",
       "      <td>0.900000</td>\n",
       "      <td>0.012000</td>\n",
       "      <td>1.000000</td>\n",
       "      <td>6.000000</td>\n",
       "      <td>0.990070</td>\n",
       "      <td>2.740000</td>\n",
       "      <td>0.330000</td>\n",
       "      <td>8.400000</td>\n",
       "      <td>3.000000</td>\n",
       "    </tr>\n",
       "    <tr>\n",
       "      <th>25%</th>\n",
       "      <td>7.100000</td>\n",
       "      <td>0.390000</td>\n",
       "      <td>0.090000</td>\n",
       "      <td>1.900000</td>\n",
       "      <td>0.070000</td>\n",
       "      <td>7.000000</td>\n",
       "      <td>22.000000</td>\n",
       "      <td>0.995600</td>\n",
       "      <td>3.210000</td>\n",
       "      <td>0.550000</td>\n",
       "      <td>9.500000</td>\n",
       "      <td>5.000000</td>\n",
       "    </tr>\n",
       "    <tr>\n",
       "      <th>50%</th>\n",
       "      <td>7.900000</td>\n",
       "      <td>0.520000</td>\n",
       "      <td>0.260000</td>\n",
       "      <td>2.200000</td>\n",
       "      <td>0.079000</td>\n",
       "      <td>14.000000</td>\n",
       "      <td>38.000000</td>\n",
       "      <td>0.996750</td>\n",
       "      <td>3.310000</td>\n",
       "      <td>0.620000</td>\n",
       "      <td>10.200000</td>\n",
       "      <td>6.000000</td>\n",
       "    </tr>\n",
       "    <tr>\n",
       "      <th>75%</th>\n",
       "      <td>9.200000</td>\n",
       "      <td>0.640000</td>\n",
       "      <td>0.420000</td>\n",
       "      <td>2.600000</td>\n",
       "      <td>0.090000</td>\n",
       "      <td>21.000000</td>\n",
       "      <td>62.000000</td>\n",
       "      <td>0.997835</td>\n",
       "      <td>3.400000</td>\n",
       "      <td>0.730000</td>\n",
       "      <td>11.100000</td>\n",
       "      <td>6.000000</td>\n",
       "    </tr>\n",
       "    <tr>\n",
       "      <th>max</th>\n",
       "      <td>15.900000</td>\n",
       "      <td>1.580000</td>\n",
       "      <td>1.000000</td>\n",
       "      <td>15.500000</td>\n",
       "      <td>0.611000</td>\n",
       "      <td>72.000000</td>\n",
       "      <td>289.000000</td>\n",
       "      <td>1.003690</td>\n",
       "      <td>4.010000</td>\n",
       "      <td>2.000000</td>\n",
       "      <td>14.900000</td>\n",
       "      <td>8.000000</td>\n",
       "    </tr>\n",
       "  </tbody>\n",
       "</table>\n",
       "</div>"
      ],
      "text/plain": [
       "       fixed acidity  volatile acidity  citric acid  residual sugar  \\\n",
       "count    1599.000000       1599.000000  1599.000000     1599.000000   \n",
       "mean        8.319637          0.527821     0.270976        2.538806   \n",
       "std         1.741096          0.179060     0.194801        1.409928   \n",
       "min         4.600000          0.120000     0.000000        0.900000   \n",
       "25%         7.100000          0.390000     0.090000        1.900000   \n",
       "50%         7.900000          0.520000     0.260000        2.200000   \n",
       "75%         9.200000          0.640000     0.420000        2.600000   \n",
       "max        15.900000          1.580000     1.000000       15.500000   \n",
       "\n",
       "         chlorides  free sulfur dioxide  total sulfur dioxide      density  \\\n",
       "count  1599.000000          1599.000000           1599.000000  1599.000000   \n",
       "mean      0.087467            15.874922             46.467792     0.996747   \n",
       "std       0.047065            10.460157             32.895324     0.001887   \n",
       "min       0.012000             1.000000              6.000000     0.990070   \n",
       "25%       0.070000             7.000000             22.000000     0.995600   \n",
       "50%       0.079000            14.000000             38.000000     0.996750   \n",
       "75%       0.090000            21.000000             62.000000     0.997835   \n",
       "max       0.611000            72.000000            289.000000     1.003690   \n",
       "\n",
       "                pH    sulphates      alcohol      quality  \n",
       "count  1599.000000  1599.000000  1599.000000  1599.000000  \n",
       "mean      3.311113     0.658149    10.422983     5.636023  \n",
       "std       0.154386     0.169507     1.065668     0.807569  \n",
       "min       2.740000     0.330000     8.400000     3.000000  \n",
       "25%       3.210000     0.550000     9.500000     5.000000  \n",
       "50%       3.310000     0.620000    10.200000     6.000000  \n",
       "75%       3.400000     0.730000    11.100000     6.000000  \n",
       "max       4.010000     2.000000    14.900000     8.000000  "
      ]
     },
     "execution_count": 3,
     "metadata": {},
     "output_type": "execute_result"
    }
   ],
   "source": [
    "red_wine_raw.describe()"
   ]
  },
  {
   "cell_type": "markdown",
   "metadata": {
    "collapsed": false
   },
   "source": [
    "We can see that there are 1599 observations of the 12 variables. There are no nulls and no flag variables.  \n",
    "From the description we of the variables we know that quality can be categorical and potentially pH but for now they can be continous variables. "
   ]
  },
  {
   "cell_type": "markdown",
   "metadata": {},
   "source": [
    "## Plot the individual variables "
   ]
  },
  {
   "cell_type": "code",
   "execution_count": 4,
   "metadata": {
    "collapsed": false
   },
   "outputs": [
    {
     "data": {
      "image/png": "[encoded data removed]",
      "text/plain": [
       "<matplotlib.figure.Figure at 0x10acc1c1dd8>"
      ]
     },
     "metadata": {},
     "output_type": "display_data"
    }
   ],
   "source": [
    "red_wine_raw.plot(kind = 'density',subplots = True, layout =(3,4), sharex = False )\n",
    "plt.show()"
   ]
  },
  {
   "cell_type": "code",
   "execution_count": 5,
   "metadata": {
    "collapsed": false
   },
   "outputs": [
    {
     "data": {
      "image/png": "[encoded data removed]",
      "text/plain": [
       "<matplotlib.figure.Figure at 0x10acc793be0>"
      ]
     },
     "metadata": {},
     "output_type": "display_data"
    }
   ],
   "source": [
    "red_wine_raw.hist()\n",
    "plt.show()"
   ]
  },
  {
   "cell_type": "markdown",
   "metadata": {},
   "source": [
    "### A Quick Variable Run down\n",
    "\n",
    "1. Alcohol has a nice balanced distribution. Fewer observations with higher alcohol content. Peak at 9/10 \n",
    "2. Chlorides is pretty sparse, mainly around 0, 0.1. Probably won't be very useful \n",
    "3. Citric acid has a nice distribution \n",
    "4. Density looks normally distributed- could be a good variable \n",
    "5. Fixed acidity has a nice, skewed normal distribution \n",
    "6. Free sulfur dioxide has fewer observations as the dioxide increases.  \n",
    "7. Sulphates nice distribution, could be normal \n",
    "8. Quality - categorial, strong peaks at 5 and 6. \n",
    "9. Volatile acidity - Peak at 0, tapering off quickly \n",
    "10. Sulphates- looks as if there is a peak around the mean has a decent distribution \n",
    "11. Total sulfur dioxide is bounded by 0 and decreasing as dioxide increases- nice distribution \n",
    "12. Volatile acidity- nice distribution, peaks from 0.4- 0.6ish "
   ]
  },
  {
   "cell_type": "markdown",
   "metadata": {},
   "source": [
    "### Whisker Plots "
   ]
  },
  {
   "cell_type": "code",
   "execution_count": 6,
   "metadata": {
    "collapsed": false
   },
   "outputs": [
    {
     "data": {
      "image/png": "[encoded data removed]",
      "text/plain": [
       "<matplotlib.figure.Figure at 0x10accb51518>"
      ]
     },
     "metadata": {},
     "output_type": "display_data"
    }
   ],
   "source": [
    "red_wine_raw.plot(kind = 'box', subplots = True, layout = (3,4), sharex = False, sharey = False)\n",
    "plt.show()"
   ]
  },
  {
   "cell_type": "markdown",
   "metadata": {},
   "source": [
    "*Interpret these graphs*\n",
    "\n",
    "It seems like chlorides and residual sugars have the smallest range and compact distribution while citric acid and alcohol have larger less compact distributions. We can see this by looking at how close the lines of the box are together and where the mean falls within those blue lines.   \n",
    "\n",
    "-- Remember these have to do mainly with quantiles \n",
    "Quality is skewed, chlorides and residual sugars have low variance and are tightly distributed- maybe have many values around peaks "
   ]
  },
  {
   "cell_type": "code",
   "execution_count": 7,
   "metadata": {
    "collapsed": true
   },
   "outputs": [],
   "source": [
    "from pandas.tools.plotting import scatter_matrix"
   ]
  },
  {
   "cell_type": "code",
   "execution_count": 8,
   "metadata": {
    "collapsed": false
   },
   "outputs": [
    {
     "data": {
      "image/png": "[encoded data removed]",
      "text/plain": [
       "<matplotlib.figure.Figure at 0x10acc55b518>"
      ]
     },
     "metadata": {},
     "output_type": "display_data"
    }
   ],
   "source": [
    "scatter_matrix(red_wine_raw)\n",
    "plt.show()"
   ]
  },
  {
   "cell_type": "markdown",
   "metadata": {},
   "source": [
    "## Let's look at the correlation between variables \n"
   ]
  },
  {
   "cell_type": "code",
   "execution_count": 9,
   "metadata": {
    "collapsed": false
   },
   "outputs": [
    {
     "data": {
      "text/plain": [
       "<matplotlib.axes._subplots.AxesSubplot at 0x10ad24ec5f8>"
      ]
     },
     "execution_count": 9,
     "metadata": {},
     "output_type": "execute_result"
    },
    {
     "data": {
      "image/png": "[encoded data removed]",
      "text/plain": [
       "<matplotlib.figure.Figure at 0x10ad24ef4e0>"
      ]
     },
     "metadata": {},
     "output_type": "display_data"
    }
   ],
   "source": [
    "corr_mat = red_wine_raw.corr()\n",
    "f, ax = plt.subplots(figsize=(12, 9))\n",
    "sns.heatmap(corr_mat, vmax=.8, square=True)"
   ]
  },
  {
   "cell_type": "markdown",
   "metadata": {},
   "source": [
    "### Quick Rundown \n",
    "\n",
    "Strong correlations: \n",
    "1. Fixed acidity, density (+)\n",
    "2. Fixed acidity, pH (-)\n",
    "3. Free sulfur dioxide, Total sulfur dioxide (expected) (+)\n",
    "4. Volatile acidity, citric acid (-) \n",
    "5. Density, alcohol (-) ((weak))\n"
   ]
  },
  {
   "cell_type": "markdown",
   "metadata": {},
   "source": [
    "## Begin Modeling"
   ]
  },
  {
   "cell_type": "markdown",
   "metadata": {},
   "source": [
    "### Let's try making some features that could be helpful "
   ]
  },
  {
   "cell_type": "code",
   "execution_count": 10,
   "metadata": {
    "collapsed": false
   },
   "outputs": [
    {
     "data": {
      "text/plain": [
       "array(['fixed acidity', 'volatile acidity', 'citric acid',\n",
       "       'residual sugar', 'chlorides', 'free sulfur dioxide',\n",
       "       'total sulfur dioxide', 'density', 'pH', 'sulphates', 'alcohol',\n",
       "       'quality'], dtype=object)"
      ]
     },
     "execution_count": 10,
     "metadata": {},
     "output_type": "execute_result"
    }
   ],
   "source": [
    "red_wine_raw.columns.values"
   ]
  },
  {
   "cell_type": "code",
   "execution_count": 11,
   "metadata": {
    "collapsed": true
   },
   "outputs": [],
   "source": [
    "red_wine_edit = red_wine_raw"
   ]
  },
  {
   "cell_type": "code",
   "execution_count": 12,
   "metadata": {
    "collapsed": false
   },
   "outputs": [],
   "source": [
    "red_wine_edit[\"free_sulf_ratio\"] = red_wine_raw[\"free sulfur dioxide\"]/ red_wine_raw[\"total sulfur dioxide\"]\n",
    "red_wine_edit[\"fixed_volatile_perc\"] = red_wine_raw[\"fixed acidity\"]/(red_wine_raw[\"volatile acidity\"] + \n",
    "                                                                      red_wine_raw[\"fixed acidity\"])\n",
    "red_wine_edit[\"sugar_alcohol_ratio\"] = red_wine_raw[\"residual sugar\"]/ red_wine_raw[\"alcohol\"]\n",
    "red_wine_edit[\"sugar_density_ratio\"] = red_wine_raw[\"residual sugar\"]/ red_wine_raw[\"density\"]\n",
    "red_wine_edit[\"chlorides_sulphates_ratio\"] = red_wine_raw[\"chlorides\"]/red_wine_raw[\"sulphates\"]"
   ]
  },
  {
   "cell_type": "code",
   "execution_count": 13,
   "metadata": {
    "collapsed": false
   },
   "outputs": [
    {
     "name": "stdout",
     "output_type": "stream",
     "text": [
      "There are now  17  independent variables. They are \n",
      " ['fixed acidity' 'volatile acidity' 'citric acid' 'residual sugar'\n",
      " 'chlorides' 'free sulfur dioxide' 'total sulfur dioxide' 'density' 'pH'\n",
      " 'sulphates' 'alcohol' 'quality' 'free_sulf_ratio' 'fixed_volatile_perc'\n",
      " 'sugar_alcohol_ratio' 'sugar_density_ratio' 'chlorides_sulphates_ratio']\n"
     ]
    }
   ],
   "source": [
    "num_indep_vars = len(red_wine_edit.columns.values)\n",
    "indep_var_names = red_wine_edit.columns.values\n",
    "print(\"There are now \", num_indep_vars, \" independent variables. They are \\n\" ,indep_var_names)"
   ]
  },
  {
   "cell_type": "markdown",
   "metadata": {},
   "source": [
    "## Pre Processing"
   ]
  },
  {
   "cell_type": "markdown",
   "metadata": {},
   "source": [
    "Let's make a standardized and normalized copy of the data  \n",
    "We will import the relevant pacakges and then make 2 copies of the data set "
   ]
  },
  {
   "cell_type": "code",
   "execution_count": 14,
   "metadata": {
    "collapsed": true
   },
   "outputs": [],
   "source": [
    "from sklearn.preprocessing import MinMaxScaler \n",
    "from sklearn.preprocessing import StandardScaler "
   ]
  },
  {
   "cell_type": "code",
   "execution_count": 15,
   "metadata": {
    "collapsed": true
   },
   "outputs": [],
   "source": [
    "# Drop dependent variable \n",
    "red_wine_no_y = red_wine_edit.drop([\"quality\"], 1)"
   ]
  },
  {
   "cell_type": "code",
   "execution_count": 16,
   "metadata": {
    "collapsed": false
   },
   "outputs": [
    {
     "data": {
      "text/html": [
       "<div>\n",
       "<table border=\"1\" class=\"dataframe\">\n",
       "  <thead>\n",
       "    <tr style=\"text-align: right;\">\n",
       "      <th></th>\n",
       "      <th>fixed acidity</th>\n",
       "      <th>volatile acidity</th>\n",
       "      <th>citric acid</th>\n",
       "      <th>residual sugar</th>\n",
       "      <th>chlorides</th>\n",
       "      <th>free sulfur dioxide</th>\n",
       "      <th>total sulfur dioxide</th>\n",
       "      <th>density</th>\n",
       "      <th>pH</th>\n",
       "      <th>sulphates</th>\n",
       "      <th>alcohol</th>\n",
       "      <th>free_sulf_ratio</th>\n",
       "      <th>fixed_volatile_perc</th>\n",
       "      <th>sugar_alcohol_ratio</th>\n",
       "      <th>sugar_density_ratio</th>\n",
       "      <th>chlorides_sulphates_ratio</th>\n",
       "    </tr>\n",
       "  </thead>\n",
       "  <tbody>\n",
       "    <tr>\n",
       "      <th>count</th>\n",
       "      <td>1599.000000</td>\n",
       "      <td>1599.000000</td>\n",
       "      <td>1599.000000</td>\n",
       "      <td>1599.000000</td>\n",
       "      <td>1599.000000</td>\n",
       "      <td>1599.000000</td>\n",
       "      <td>1599.000000</td>\n",
       "      <td>1599.000000</td>\n",
       "      <td>1599.000000</td>\n",
       "      <td>1599.000000</td>\n",
       "      <td>1599.000000</td>\n",
       "      <td>1599.000000</td>\n",
       "      <td>1599.000000</td>\n",
       "      <td>1599.000000</td>\n",
       "      <td>1599.000000</td>\n",
       "      <td>1599.000000</td>\n",
       "    </tr>\n",
       "    <tr>\n",
       "      <th>mean</th>\n",
       "      <td>0.329171</td>\n",
       "      <td>0.279329</td>\n",
       "      <td>0.270976</td>\n",
       "      <td>0.112247</td>\n",
       "      <td>0.125988</td>\n",
       "      <td>0.209506</td>\n",
       "      <td>0.142996</td>\n",
       "      <td>0.490211</td>\n",
       "      <td>0.449695</td>\n",
       "      <td>0.196496</td>\n",
       "      <td>0.311228</td>\n",
       "      <td>0.430941</td>\n",
       "      <td>0.692273</td>\n",
       "      <td>0.106470</td>\n",
       "      <td>0.112511</td>\n",
       "      <td>0.191930</td>\n",
       "    </tr>\n",
       "    <tr>\n",
       "      <th>std</th>\n",
       "      <td>0.154079</td>\n",
       "      <td>0.122644</td>\n",
       "      <td>0.194801</td>\n",
       "      <td>0.096570</td>\n",
       "      <td>0.078573</td>\n",
       "      <td>0.147326</td>\n",
       "      <td>0.116238</td>\n",
       "      <td>0.138571</td>\n",
       "      <td>0.121564</td>\n",
       "      <td>0.101501</td>\n",
       "      <td>0.163949</td>\n",
       "      <td>0.185518</td>\n",
       "      <td>0.154540</td>\n",
       "      <td>0.086866</td>\n",
       "      <td>0.096889</td>\n",
       "      <td>0.097997</td>\n",
       "    </tr>\n",
       "    <tr>\n",
       "      <th>min</th>\n",
       "      <td>0.000000</td>\n",
       "      <td>0.000000</td>\n",
       "      <td>0.000000</td>\n",
       "      <td>0.000000</td>\n",
       "      <td>0.000000</td>\n",
       "      <td>0.000000</td>\n",
       "      <td>0.000000</td>\n",
       "      <td>0.000000</td>\n",
       "      <td>0.000000</td>\n",
       "      <td>0.000000</td>\n",
       "      <td>0.000000</td>\n",
       "      <td>0.000000</td>\n",
       "      <td>0.000000</td>\n",
       "      <td>0.000000</td>\n",
       "      <td>0.000000</td>\n",
       "      <td>0.000000</td>\n",
       "    </tr>\n",
       "    <tr>\n",
       "      <th>25%</th>\n",
       "      <td>0.221239</td>\n",
       "      <td>0.184932</td>\n",
       "      <td>0.090000</td>\n",
       "      <td>0.068493</td>\n",
       "      <td>0.096828</td>\n",
       "      <td>0.084507</td>\n",
       "      <td>0.056537</td>\n",
       "      <td>0.406021</td>\n",
       "      <td>0.370079</td>\n",
       "      <td>0.131737</td>\n",
       "      <td>0.169231</td>\n",
       "      <td>0.283470</td>\n",
       "      <td>0.586324</td>\n",
       "      <td>0.068403</td>\n",
       "      <td>0.068524</td>\n",
       "      <td>0.134913</td>\n",
       "    </tr>\n",
       "    <tr>\n",
       "      <th>50%</th>\n",
       "      <td>0.292035</td>\n",
       "      <td>0.273973</td>\n",
       "      <td>0.260000</td>\n",
       "      <td>0.089041</td>\n",
       "      <td>0.111853</td>\n",
       "      <td>0.183099</td>\n",
       "      <td>0.113074</td>\n",
       "      <td>0.490455</td>\n",
       "      <td>0.448819</td>\n",
       "      <td>0.173653</td>\n",
       "      <td>0.276923</td>\n",
       "      <td>0.422179</td>\n",
       "      <td>0.695788</td>\n",
       "      <td>0.085502</td>\n",
       "      <td>0.089177</td>\n",
       "      <td>0.178413</td>\n",
       "    </tr>\n",
       "    <tr>\n",
       "      <th>75%</th>\n",
       "      <td>0.407080</td>\n",
       "      <td>0.356164</td>\n",
       "      <td>0.420000</td>\n",
       "      <td>0.116438</td>\n",
       "      <td>0.130217</td>\n",
       "      <td>0.281690</td>\n",
       "      <td>0.197880</td>\n",
       "      <td>0.570117</td>\n",
       "      <td>0.519685</td>\n",
       "      <td>0.239521</td>\n",
       "      <td>0.415385</td>\n",
       "      <td>0.553826</td>\n",
       "      <td>0.818195</td>\n",
       "      <td>0.112144</td>\n",
       "      <td>0.116560</td>\n",
       "      <td>0.228653</td>\n",
       "    </tr>\n",
       "    <tr>\n",
       "      <th>max</th>\n",
       "      <td>1.000000</td>\n",
       "      <td>1.000000</td>\n",
       "      <td>1.000000</td>\n",
       "      <td>1.000000</td>\n",
       "      <td>1.000000</td>\n",
       "      <td>1.000000</td>\n",
       "      <td>1.000000</td>\n",
       "      <td>1.000000</td>\n",
       "      <td>1.000000</td>\n",
       "      <td>1.000000</td>\n",
       "      <td>1.000000</td>\n",
       "      <td>1.000000</td>\n",
       "      <td>1.000000</td>\n",
       "      <td>1.000000</td>\n",
       "      <td>1.000000</td>\n",
       "      <td>1.000000</td>\n",
       "    </tr>\n",
       "  </tbody>\n",
       "</table>\n",
       "</div>"
      ],
      "text/plain": [
       "       fixed acidity  volatile acidity  citric acid  residual sugar  \\\n",
       "count    1599.000000       1599.000000  1599.000000     1599.000000   \n",
       "mean        0.329171          0.279329     0.270976        0.112247   \n",
       "std         0.154079          0.122644     0.194801        0.096570   \n",
       "min         0.000000          0.000000     0.000000        0.000000   \n",
       "25%         0.221239          0.184932     0.090000        0.068493   \n",
       "50%         0.292035          0.273973     0.260000        0.089041   \n",
       "75%         0.407080          0.356164     0.420000        0.116438   \n",
       "max         1.000000          1.000000     1.000000        1.000000   \n",
       "\n",
       "         chlorides  free sulfur dioxide  total sulfur dioxide      density  \\\n",
       "count  1599.000000          1599.000000           1599.000000  1599.000000   \n",
       "mean      0.125988             0.209506              0.142996     0.490211   \n",
       "std       0.078573             0.147326              0.116238     0.138571   \n",
       "min       0.000000             0.000000              0.000000     0.000000   \n",
       "25%       0.096828             0.084507              0.056537     0.406021   \n",
       "50%       0.111853             0.183099              0.113074     0.490455   \n",
       "75%       0.130217             0.281690              0.197880     0.570117   \n",
       "max       1.000000             1.000000              1.000000     1.000000   \n",
       "\n",
       "                pH    sulphates      alcohol  free_sulf_ratio  \\\n",
       "count  1599.000000  1599.000000  1599.000000      1599.000000   \n",
       "mean      0.449695     0.196496     0.311228         0.430941   \n",
       "std       0.121564     0.101501     0.163949         0.185518   \n",
       "min       0.000000     0.000000     0.000000         0.000000   \n",
       "25%       0.370079     0.131737     0.169231         0.283470   \n",
       "50%       0.448819     0.173653     0.276923         0.422179   \n",
       "75%       0.519685     0.239521     0.415385         0.553826   \n",
       "max       1.000000     1.000000     1.000000         1.000000   \n",
       "\n",
       "       fixed_volatile_perc  sugar_alcohol_ratio  sugar_density_ratio  \\\n",
       "count          1599.000000          1599.000000          1599.000000   \n",
       "mean              0.692273             0.106470             0.112511   \n",
       "std               0.154540             0.086866             0.096889   \n",
       "min               0.000000             0.000000             0.000000   \n",
       "25%               0.586324             0.068403             0.068524   \n",
       "50%               0.695788             0.085502             0.089177   \n",
       "75%               0.818195             0.112144             0.116560   \n",
       "max               1.000000             1.000000             1.000000   \n",
       "\n",
       "       chlorides_sulphates_ratio  \n",
       "count                1599.000000  \n",
       "mean                    0.191930  \n",
       "std                     0.097997  \n",
       "min                     0.000000  \n",
       "25%                     0.134913  \n",
       "50%                     0.178413  \n",
       "75%                     0.228653  \n",
       "max                     1.000000  "
      ]
     },
     "execution_count": 16,
     "metadata": {},
     "output_type": "execute_result"
    }
   ],
   "source": [
    "scaler = MinMaxScaler(feature_range = (0,1)).fit(red_wine_no_y)\n",
    "red_wine_scale = scaler.transform(red_wine_no_y)\n",
    "pd.DataFrame(red_wine_scale, columns = red_wine_no_y.columns).describe()"
   ]
  },
  {
   "cell_type": "markdown",
   "metadata": {},
   "source": [
    "Note the min is 0 and max is 1 and we can potentially sort by standard deviation to under relatively which variable has the most variance \n",
    "\n",
    "Also we can compare the quantiles and see that most of the 75% quantiles are below 0.6 so there might be some outliers. "
   ]
  },
  {
   "cell_type": "code",
   "execution_count": 17,
   "metadata": {
    "collapsed": false
   },
   "outputs": [
    {
     "data": {
      "text/html": [
       "<div>\n",
       "<table border=\"1\" class=\"dataframe\">\n",
       "  <thead>\n",
       "    <tr style=\"text-align: right;\">\n",
       "      <th></th>\n",
       "      <th>fixed acidity</th>\n",
       "      <th>volatile acidity</th>\n",
       "      <th>citric acid</th>\n",
       "      <th>residual sugar</th>\n",
       "      <th>chlorides</th>\n",
       "      <th>free sulfur dioxide</th>\n",
       "      <th>total sulfur dioxide</th>\n",
       "      <th>density</th>\n",
       "      <th>pH</th>\n",
       "      <th>sulphates</th>\n",
       "      <th>alcohol</th>\n",
       "      <th>free_sulf_ratio</th>\n",
       "      <th>fixed_volatile_perc</th>\n",
       "      <th>sugar_alcohol_ratio</th>\n",
       "      <th>sugar_density_ratio</th>\n",
       "      <th>chlorides_sulphates_ratio</th>\n",
       "    </tr>\n",
       "  </thead>\n",
       "  <tbody>\n",
       "    <tr>\n",
       "      <th>count</th>\n",
       "      <td>1599.0000</td>\n",
       "      <td>1599.0000</td>\n",
       "      <td>1599.0000</td>\n",
       "      <td>1599.0000</td>\n",
       "      <td>1599.0000</td>\n",
       "      <td>1599.0000</td>\n",
       "      <td>1599.0000</td>\n",
       "      <td>1599.0000</td>\n",
       "      <td>1599.0000</td>\n",
       "      <td>1599.0000</td>\n",
       "      <td>1599.0000</td>\n",
       "      <td>1599.0000</td>\n",
       "      <td>1599.0000</td>\n",
       "      <td>1599.0000</td>\n",
       "      <td>1599.0000</td>\n",
       "      <td>1599.0000</td>\n",
       "    </tr>\n",
       "    <tr>\n",
       "      <th>mean</th>\n",
       "      <td>0.0000</td>\n",
       "      <td>0.0000</td>\n",
       "      <td>0.0000</td>\n",
       "      <td>-0.0000</td>\n",
       "      <td>0.0000</td>\n",
       "      <td>0.0000</td>\n",
       "      <td>0.0000</td>\n",
       "      <td>0.0000</td>\n",
       "      <td>0.0000</td>\n",
       "      <td>0.0000</td>\n",
       "      <td>0.0000</td>\n",
       "      <td>-0.0000</td>\n",
       "      <td>0.0000</td>\n",
       "      <td>0.0000</td>\n",
       "      <td>-0.0000</td>\n",
       "      <td>-0.0000</td>\n",
       "    </tr>\n",
       "    <tr>\n",
       "      <th>std</th>\n",
       "      <td>1.0003</td>\n",
       "      <td>1.0003</td>\n",
       "      <td>1.0003</td>\n",
       "      <td>1.0003</td>\n",
       "      <td>1.0003</td>\n",
       "      <td>1.0003</td>\n",
       "      <td>1.0003</td>\n",
       "      <td>1.0003</td>\n",
       "      <td>1.0003</td>\n",
       "      <td>1.0003</td>\n",
       "      <td>1.0003</td>\n",
       "      <td>1.0003</td>\n",
       "      <td>1.0003</td>\n",
       "      <td>1.0003</td>\n",
       "      <td>1.0003</td>\n",
       "      <td>1.0003</td>\n",
       "    </tr>\n",
       "    <tr>\n",
       "      <th>min</th>\n",
       "      <td>-2.1370</td>\n",
       "      <td>-2.2783</td>\n",
       "      <td>-1.3915</td>\n",
       "      <td>-1.1627</td>\n",
       "      <td>-1.6039</td>\n",
       "      <td>-1.4225</td>\n",
       "      <td>-1.2306</td>\n",
       "      <td>-3.5387</td>\n",
       "      <td>-3.7004</td>\n",
       "      <td>-1.9365</td>\n",
       "      <td>-1.8989</td>\n",
       "      <td>-2.3236</td>\n",
       "      <td>-4.4810</td>\n",
       "      <td>-1.2261</td>\n",
       "      <td>-1.1616</td>\n",
       "      <td>-1.9591</td>\n",
       "    </tr>\n",
       "    <tr>\n",
       "      <th>25%</th>\n",
       "      <td>-0.7007</td>\n",
       "      <td>-0.7699</td>\n",
       "      <td>-0.9293</td>\n",
       "      <td>-0.4532</td>\n",
       "      <td>-0.3712</td>\n",
       "      <td>-0.8487</td>\n",
       "      <td>-0.7440</td>\n",
       "      <td>-0.6078</td>\n",
       "      <td>-0.6551</td>\n",
       "      <td>-0.6382</td>\n",
       "      <td>-0.8664</td>\n",
       "      <td>-0.7952</td>\n",
       "      <td>-0.6858</td>\n",
       "      <td>-0.4384</td>\n",
       "      <td>-0.4541</td>\n",
       "      <td>-0.5820</td>\n",
       "    </tr>\n",
       "    <tr>\n",
       "      <th>50%</th>\n",
       "      <td>-0.2411</td>\n",
       "      <td>-0.0437</td>\n",
       "      <td>-0.0564</td>\n",
       "      <td>-0.2404</td>\n",
       "      <td>-0.1799</td>\n",
       "      <td>-0.1793</td>\n",
       "      <td>-0.2575</td>\n",
       "      <td>0.0018</td>\n",
       "      <td>-0.0072</td>\n",
       "      <td>-0.2251</td>\n",
       "      <td>-0.2093</td>\n",
       "      <td>-0.0472</td>\n",
       "      <td>0.0227</td>\n",
       "      <td>-0.2415</td>\n",
       "      <td>-0.2409</td>\n",
       "      <td>-0.1380</td>\n",
       "    </tr>\n",
       "    <tr>\n",
       "      <th>75%</th>\n",
       "      <td>0.5058</td>\n",
       "      <td>0.6267</td>\n",
       "      <td>0.7652</td>\n",
       "      <td>0.0434</td>\n",
       "      <td>0.0538</td>\n",
       "      <td>0.4901</td>\n",
       "      <td>0.4723</td>\n",
       "      <td>0.5768</td>\n",
       "      <td>0.5759</td>\n",
       "      <td>0.4240</td>\n",
       "      <td>0.6355</td>\n",
       "      <td>0.6626</td>\n",
       "      <td>0.8151</td>\n",
       "      <td>0.0653</td>\n",
       "      <td>0.0418</td>\n",
       "      <td>0.3749</td>\n",
       "    </tr>\n",
       "    <tr>\n",
       "      <th>max</th>\n",
       "      <td>4.3551</td>\n",
       "      <td>5.8780</td>\n",
       "      <td>3.7436</td>\n",
       "      <td>9.1957</td>\n",
       "      <td>11.1270</td>\n",
       "      <td>5.3673</td>\n",
       "      <td>7.3752</td>\n",
       "      <td>3.6801</td>\n",
       "      <td>4.5283</td>\n",
       "      <td>7.9187</td>\n",
       "      <td>4.2025</td>\n",
       "      <td>3.0684</td>\n",
       "      <td>1.9919</td>\n",
       "      <td>10.2895</td>\n",
       "      <td>9.1627</td>\n",
       "      <td>8.2484</td>\n",
       "    </tr>\n",
       "  </tbody>\n",
       "</table>\n",
       "</div>"
      ],
      "text/plain": [
       "       fixed acidity  volatile acidity  citric acid  residual sugar  \\\n",
       "count      1599.0000         1599.0000    1599.0000       1599.0000   \n",
       "mean          0.0000            0.0000       0.0000         -0.0000   \n",
       "std           1.0003            1.0003       1.0003          1.0003   \n",
       "min          -2.1370           -2.2783      -1.3915         -1.1627   \n",
       "25%          -0.7007           -0.7699      -0.9293         -0.4532   \n",
       "50%          -0.2411           -0.0437      -0.0564         -0.2404   \n",
       "75%           0.5058            0.6267       0.7652          0.0434   \n",
       "max           4.3551            5.8780       3.7436          9.1957   \n",
       "\n",
       "       chlorides  free sulfur dioxide  total sulfur dioxide    density  \\\n",
       "count  1599.0000            1599.0000             1599.0000  1599.0000   \n",
       "mean      0.0000               0.0000                0.0000     0.0000   \n",
       "std       1.0003               1.0003                1.0003     1.0003   \n",
       "min      -1.6039              -1.4225               -1.2306    -3.5387   \n",
       "25%      -0.3712              -0.8487               -0.7440    -0.6078   \n",
       "50%      -0.1799              -0.1793               -0.2575     0.0018   \n",
       "75%       0.0538               0.4901                0.4723     0.5768   \n",
       "max      11.1270               5.3673                7.3752     3.6801   \n",
       "\n",
       "              pH  sulphates    alcohol  free_sulf_ratio  fixed_volatile_perc  \\\n",
       "count  1599.0000  1599.0000  1599.0000        1599.0000            1599.0000   \n",
       "mean      0.0000     0.0000     0.0000          -0.0000               0.0000   \n",
       "std       1.0003     1.0003     1.0003           1.0003               1.0003   \n",
       "min      -3.7004    -1.9365    -1.8989          -2.3236              -4.4810   \n",
       "25%      -0.6551    -0.6382    -0.8664          -0.7952              -0.6858   \n",
       "50%      -0.0072    -0.2251    -0.2093          -0.0472               0.0227   \n",
       "75%       0.5759     0.4240     0.6355           0.6626               0.8151   \n",
       "max       4.5283     7.9187     4.2025           3.0684               1.9919   \n",
       "\n",
       "       sugar_alcohol_ratio  sugar_density_ratio  chlorides_sulphates_ratio  \n",
       "count            1599.0000            1599.0000                  1599.0000  \n",
       "mean                0.0000              -0.0000                    -0.0000  \n",
       "std                 1.0003               1.0003                     1.0003  \n",
       "min                -1.2261              -1.1616                    -1.9591  \n",
       "25%                -0.4384              -0.4541                    -0.5820  \n",
       "50%                -0.2415              -0.2409                    -0.1380  \n",
       "75%                 0.0653               0.0418                     0.3749  \n",
       "max                10.2895               9.1627                     8.2484  "
      ]
     },
     "execution_count": 17,
     "metadata": {},
     "output_type": "execute_result"
    }
   ],
   "source": [
    "red_wine_standard_scaler = StandardScaler().fit(red_wine_no_y)\n",
    "red_wine_standard = red_wine_standard_scaler.transform(red_wine_no_y)\n",
    "red_wine_standard = pd.DataFrame(red_wine_standard, columns = red_wine_no_y.columns)\n",
    "red_wine_standard.describe().round(4)"
   ]
  },
  {
   "cell_type": "markdown",
   "metadata": {},
   "source": [
    "Note the Mean and std being 0 and 1 relatively. \n",
    "\n",
    "Let's use the Standardized data because we will start with some linear regression stuff "
   ]
  },
  {
   "cell_type": "markdown",
   "metadata": {},
   "source": [
    "# Feature Initial Selection "
   ]
  },
  {
   "cell_type": "code",
   "execution_count": 18,
   "metadata": {
    "collapsed": false
   },
   "outputs": [],
   "source": [
    "X = red_wine_standard\n",
    "X.columns = red_wine_no_y.columns\n",
    "Y = red_wine_edit[\"quality\"]"
   ]
  },
  {
   "cell_type": "code",
   "execution_count": 19,
   "metadata": {
    "collapsed": false
   },
   "outputs": [
    {
     "name": "stdout",
     "output_type": "stream",
     "text": [
      "(1599, 17)\n"
     ]
    }
   ],
   "source": [
    "print(red_wine_edit.shape)"
   ]
  },
  {
   "cell_type": "code",
   "execution_count": 20,
   "metadata": {
    "collapsed": false
   },
   "outputs": [
    {
     "name": "stdout",
     "output_type": "stream",
     "text": [
      "(1599, 17)\n"
     ]
    }
   ],
   "source": [
    "print(red_wine_edit.shape)"
   ]
  },
  {
   "cell_type": "markdown",
   "metadata": {},
   "source": [
    "### Begin Recursive Feature Selection "
   ]
  },
  {
   "cell_type": "code",
   "execution_count": 21,
   "metadata": {
    "collapsed": false
   },
   "outputs": [],
   "source": [
    "from sklearn.feature_selection import SelectKBest\n",
    "from sklearn.feature_selection import chi2 \n",
    "from sklearn.feature_selection import RFE\n",
    "from sklearn.linear_model import LinearRegression"
   ]
  },
  {
   "cell_type": "code",
   "execution_count": 57,
   "metadata": {
    "collapsed": false
   },
   "outputs": [],
   "source": [
    "model1 = LinearRegression()\n",
    "rfe1 = RFE(model1, 4)\n",
    "fit1 = rfe1.fit(X,Y)\n",
    "top_rfe_vars = X.columns[fit1.support_]"
   ]
  },
  {
   "cell_type": "code",
   "execution_count": 58,
   "metadata": {
    "collapsed": false
   },
   "outputs": [
    {
     "name": "stdout",
     "output_type": "stream",
     "text": [
      "Num Features:  4\n",
      "Features:  Index(['residual sugar', 'alcohol', 'sugar_alcohol_ratio',\n",
      "       'sugar_density_ratio'],\n",
      "      dtype='object')\n",
      "Feature Ranking:  [11  6  9  1 13 10  5 12  7  3  1  8  2  1  1  4]\n"
     ]
    }
   ],
   "source": [
    "print(\"Num Features: \", fit1.n_features_)\n",
    "print(\"Features: \", top_rfe_vars)\n",
    "print(\"Feature Ranking: \", fit1.ranking_) "
   ]
  },
  {
   "cell_type": "markdown",
   "metadata": {},
   "source": [
    "We see that the ideal number of features for the linear regression is 4 as compared to the original 11. \n",
    "Those variables are : residual sugar, free_sulf_ratio, fixed_volatile_perc, sugar_density_ratio  \n",
    "If we wanted to reduce the variance or computation time for the other processes we could use these variables. \n",
    "It will be interesting to compare variable importances in the other algorithms. "
   ]
  },
  {
   "cell_type": "code",
   "execution_count": 60,
   "metadata": {
    "collapsed": true
   },
   "outputs": [],
   "source": [
    "from sklearn.ensemble import RandomForestRegressor\n",
    "model2 = RandomForestRegressor()\n",
    "rfe2 = RFE(model2, 4)\n",
    "fit2 = rfe2.fit(X,Y)\n",
    "top_rfe2_vars = X.columns[fit2.support_]"
   ]
  },
  {
   "cell_type": "code",
   "execution_count": 61,
   "metadata": {
    "collapsed": false
   },
   "outputs": [
    {
     "data": {
      "text/plain": [
       "Index(['total sulfur dioxide', 'sulphates', 'alcohol', 'fixed_volatile_perc'], dtype='object')"
      ]
     },
     "execution_count": 61,
     "metadata": {},
     "output_type": "execute_result"
    }
   ],
   "source": [
    "top_rfe2_vars"
   ]
  },
  {
   "cell_type": "markdown",
   "metadata": {},
   "source": [
    "# Begin Preparing Data for Algorithms "
   ]
  },
  {
   "cell_type": "markdown",
   "metadata": {},
   "source": [
    "Split data into test and train sets "
   ]
  },
  {
   "cell_type": "code",
   "execution_count": 24,
   "metadata": {
    "collapsed": false
   },
   "outputs": [],
   "source": [
    "from sklearn.model_selection import train_test_split\n",
    "X_train, X_test, y_train, y_test = train_test_split(X, Y, test_size = 0.25)"
   ]
  },
  {
   "cell_type": "markdown",
   "metadata": {},
   "source": [
    "# Begin using the Algorithms "
   ]
  },
  {
   "cell_type": "markdown",
   "metadata": {},
   "source": [
    "### Start with Linear regression "
   ]
  },
  {
   "cell_type": "code",
   "execution_count": 25,
   "metadata": {
    "collapsed": true
   },
   "outputs": [],
   "source": [
    "from sklearn.linear_model import LinearRegression\n",
    "from sklearn import metrics\n",
    "from sklearn.model_selection import cross_val_score"
   ]
  },
  {
   "cell_type": "code",
   "execution_count": 26,
   "metadata": {
    "collapsed": false
   },
   "outputs": [
    {
     "data": {
      "text/plain": [
       "LinearRegression(copy_X=True, fit_intercept=True, n_jobs=1, normalize=False)"
      ]
     },
     "execution_count": 26,
     "metadata": {},
     "output_type": "execute_result"
    }
   ],
   "source": [
    "linear_fit = LinearRegression()\n",
    "linear_fit.fit(X_train, y_train)"
   ]
  },
  {
   "cell_type": "code",
   "execution_count": 27,
   "metadata": {
    "collapsed": false
   },
   "outputs": [
    {
     "data": {
      "text/plain": [
       "(1199, 16)"
      ]
     },
     "execution_count": 27,
     "metadata": {},
     "output_type": "execute_result"
    }
   ],
   "source": [
    "X_train.shape"
   ]
  },
  {
   "cell_type": "code",
   "execution_count": 28,
   "metadata": {
    "collapsed": false,
    "scrolled": true
   },
   "outputs": [],
   "source": [
    "coefficients = pd.concat([pd.DataFrame(X.columns),pd.DataFrame(np.transpose(linear_fit.coef_))], axis = 1)\n",
    "coefficients.columns = [\"Variable\", \"Scaled Coefficients\"]\n",
    "coefficients[\"Abs Scaled Coefs\"] = np.abs(coefficients[\"Scaled Coefficients\"])"
   ]
  },
  {
   "cell_type": "code",
   "execution_count": 29,
   "metadata": {
    "collapsed": false,
    "scrolled": true
   },
   "outputs": [
    {
     "name": "stdout",
     "output_type": "stream",
     "text": [
      "{'alcohol': 0.36957315868996332,\n",
      " 'chlorides': 0.054603336136037794,\n",
      " 'citric acid': -0.076360412076218034,\n",
      " 'density': -0.012400928122915163,\n",
      " 'fixed acidity': 0.051897238367267069,\n",
      " 'fixed_volatile_perc': 0.1109929088504332,\n",
      " 'free sulfur dioxide': -0.0014589056863684655,\n",
      " 'free_sulf_ratio': 0.05032231956256894,\n",
      " 'pH': -0.062868693435003148,\n",
      " 'residual sugar': -9.8758074321546889,\n",
      " 'sugar_alcohol_ratio': 0.39021909981196368,\n",
      " 'sugar_density_ratio': 9.5166875437033127,\n",
      " 'sulphates': 0.073889281723032441,\n",
      " 'total sulfur dioxide': -0.047876601722147277,\n",
      " 'volatile acidity': -0.12783930969185225}\n"
     ]
    }
   ],
   "source": [
    "coef_dict1 ={}\n",
    "x = 0\n",
    "for data in X.columns.values[0:(num_indep_vars-2)]:\n",
    "    coef_dict1[data] = linear_fit.coef_[x]\n",
    "    x = x+1 \n",
    "\n",
    "pprint.pprint(coef_dict1)"
   ]
  },
  {
   "cell_type": "code",
   "execution_count": 30,
   "metadata": {
    "collapsed": false
   },
   "outputs": [
    {
     "name": "stdout",
     "output_type": "stream",
     "text": [
      "{'alcohol': 0.36957315868996332,\n",
      " 'chlorides': 0.054603336136037794,\n",
      " 'citric acid': 0.076360412076218034,\n",
      " 'density': 0.012400928122915163,\n",
      " 'fixed acidity': 0.051897238367267069,\n",
      " 'fixed_volatile_perc': 0.39021909981196368,\n",
      " 'free sulfur dioxide': 0.0014589056863684655,\n",
      " 'free_sulf_ratio': 0.1109929088504332,\n",
      " 'pH': 0.062868693435003148,\n",
      " 'quality': 0.05032231956256894,\n",
      " 'residual sugar': 9.8758074321546889,\n",
      " 'sugar_alcohol_ratio': 9.5166875437033127,\n",
      " 'sugar_density_ratio': 0.15261245899216036,\n",
      " 'sulphates': 0.073889281723032441,\n",
      " 'total sulfur dioxide': 0.047876601722147277,\n",
      " 'volatile acidity': 0.12783930969185225}\n"
     ]
    }
   ],
   "source": [
    "# Absolute value of the coefficients \n",
    "coef_abs_dict1 ={}\n",
    "x = 0\n",
    "for data in red_wine_raw.columns.values[0:(num_indep_vars-1)]:\n",
    "    coef_abs_dict1[data] = np.absolute(linear_fit.coef_[x])\n",
    "    x = x+1 \n",
    "\n",
    "pprint.pprint(coef_abs_dict1)"
   ]
  },
  {
   "cell_type": "markdown",
   "metadata": {
    "collapsed": true
   },
   "source": [
    "These are scaled coefficients so we should not interpret them with the variable associated but rather against each other. Residual sugar and sugar alochol ratio are very high. From the previous regression we see that they are of opposite signs and are probably highly correlated. \n",
    "\n",
    "We will get rid of one of them to see how the regression is affected"
   ]
  },
  {
   "cell_type": "code",
   "execution_count": 31,
   "metadata": {
    "collapsed": false
   },
   "outputs": [
    {
     "data": {
      "text/plain": [
       "0.39890344701544178"
      ]
     },
     "execution_count": 31,
     "metadata": {},
     "output_type": "execute_result"
    }
   ],
   "source": [
    "linear_fit.score(X_train, y_train)"
   ]
  },
  {
   "cell_type": "code",
   "execution_count": 32,
   "metadata": {
    "collapsed": false
   },
   "outputs": [
    {
     "data": {
      "text/plain": [
       "0.23591177533749741"
      ]
     },
     "execution_count": 32,
     "metadata": {},
     "output_type": "execute_result"
    }
   ],
   "source": [
    "linear_fit.score(X_test, y_test)"
   ]
  },
  {
   "cell_type": "markdown",
   "metadata": {},
   "source": [
    "We similar R2 performance across the test and training set so we can assume the model generalized well "
   ]
  },
  {
   "cell_type": "markdown",
   "metadata": {},
   "source": [
    "### Random Forest "
   ]
  },
  {
   "cell_type": "code",
   "execution_count": 33,
   "metadata": {
    "collapsed": true
   },
   "outputs": [],
   "source": [
    "from sklearn.ensemble import RandomForestRegressor"
   ]
  },
  {
   "cell_type": "code",
   "execution_count": 34,
   "metadata": {
    "collapsed": false
   },
   "outputs": [],
   "source": [
    "rf1 = RandomForestRegressor(n_estimators=100, max_depth = 4).fit(X_train, y_train)"
   ]
  },
  {
   "cell_type": "code",
   "execution_count": 35,
   "metadata": {
    "collapsed": false
   },
   "outputs": [
    {
     "data": {
      "text/plain": [
       "0.30117395211928322"
      ]
     },
     "execution_count": 35,
     "metadata": {},
     "output_type": "execute_result"
    }
   ],
   "source": [
    "rf1.score(X_test, y_test)"
   ]
  },
  {
   "cell_type": "code",
   "execution_count": 36,
   "metadata": {
    "collapsed": false
   },
   "outputs": [
    {
     "data": {
      "text/plain": [
       "0.50585103648933993"
      ]
     },
     "execution_count": 36,
     "metadata": {},
     "output_type": "execute_result"
    }
   ],
   "source": [
    "rf1.score(X_train, y_train)"
   ]
  },
  {
   "cell_type": "markdown",
   "metadata": {},
   "source": [
    "We see very different performance for the test set and the training set. The model is overfitting.  \n",
    "Let's do a search to see if we can find the optimal hyper parameters for the random forest "
   ]
  },
  {
   "cell_type": "code",
   "execution_count": 37,
   "metadata": {
    "collapsed": false
   },
   "outputs": [],
   "source": [
    "# specify parameters and distributions to sample from\n",
    "np.random.seed(1234)\n",
    "param_dist = {\"n_estimators\": [10, 30, 100, 200, 400], \n",
    "              \"max_depth\": [1,3, 6, None],\n",
    "              #\"min_samples_split\": [2,3,7,13],\n",
    "              \"min_samples_leaf\": [3,7,11], \n",
    "              #\"max_leaf_nodes\": [2,4, None],\n",
    "              \"max_features\": [None, 'auto', 'sqrt', 3, 7, 11]\n",
    "              }\n",
    "n_iter_search = 30"
   ]
  },
  {
   "cell_type": "code",
   "execution_count": 38,
   "metadata": {
    "collapsed": true
   },
   "outputs": [],
   "source": [
    "from sklearn.model_selection import GridSearchCV\n",
    "from sklearn.model_selection import RandomizedSearchCV"
   ]
  },
  {
   "cell_type": "markdown",
   "metadata": {},
   "source": [
    "We won't do grid search because it will take too long. "
   ]
  },
  {
   "cell_type": "code",
   "execution_count": 39,
   "metadata": {
    "collapsed": false
   },
   "outputs": [],
   "source": [
    "rf1_random_search = RandomizedSearchCV(RandomForestRegressor(), param_distributions=param_dist,\n",
    "                                   n_iter=n_iter_search, cv = 4)"
   ]
  },
  {
   "cell_type": "code",
   "execution_count": 40,
   "metadata": {
    "collapsed": false
   },
   "outputs": [
    {
     "data": {
      "text/plain": [
       "RandomizedSearchCV(cv=4, error_score='raise',\n",
       "          estimator=RandomForestRegressor(bootstrap=True, criterion='mse', max_depth=None,\n",
       "           max_features='auto', max_leaf_nodes=None,\n",
       "           min_impurity_split=1e-07, min_samples_leaf=1,\n",
       "           min_samples_split=2, min_weight_fraction_leaf=0.0,\n",
       "           n_estimators=10, n_jobs=1, oob_score=False, random_state=None,\n",
       "           verbose=0, warm_start=False),\n",
       "          fit_params={}, iid=True, n_iter=30, n_jobs=1,\n",
       "          param_distributions={'max_features': [None, 'auto', 'sqrt', 3, 7, 11], 'n_estimators': [10, 30, 100, 200, 400], 'min_samples_leaf': [3, 7, 11], 'max_depth': [1, 3, 6, None]},\n",
       "          pre_dispatch='2*n_jobs', random_state=None, refit=True,\n",
       "          return_train_score=True, scoring=None, verbose=0)"
      ]
     },
     "execution_count": 40,
     "metadata": {},
     "output_type": "execute_result"
    }
   ],
   "source": [
    "rf1_random_search.fit(X, Y)"
   ]
  },
  {
   "cell_type": "markdown",
   "metadata": {},
   "source": [
    "### Begin Analyzing the results from Grid "
   ]
  },
  {
   "cell_type": "code",
   "execution_count": 41,
   "metadata": {
    "collapsed": false
   },
   "outputs": [
    {
     "data": {
      "text/plain": [
       "dict_keys(['split0_test_score', 'std_test_score', 'split2_test_score', 'param_max_depth', 'std_train_score', 'split3_test_score', 'split1_test_score', 'mean_score_time', 'split0_train_score', 'param_min_samples_leaf', 'split2_train_score', 'mean_train_score', 'split1_train_score', 'mean_fit_time', 'param_max_features', 'std_score_time', 'mean_test_score', 'split3_train_score', 'std_fit_time', 'param_n_estimators', 'params', 'rank_test_score'])"
      ]
     },
     "execution_count": 41,
     "metadata": {},
     "output_type": "execute_result"
    }
   ],
   "source": [
    "# Options for results\n",
    "#dir(rf1_random_search)\n",
    "rf1_random_search.cv_results_.keys()"
   ]
  },
  {
   "cell_type": "code",
   "execution_count": 42,
   "metadata": {
    "collapsed": false
   },
   "outputs": [
    {
     "data": {
      "text/plain": [
       "{'mean_test_score',\n",
       " 'mean_train_score',\n",
       " 'param_max_depth',\n",
       " 'param_max_features',\n",
       " 'param_min_samples_leaf',\n",
       " 'param_n_estimators',\n",
       " 'rank_test_score'}"
      ]
     },
     "execution_count": 42,
     "metadata": {},
     "output_type": "execute_result"
    }
   ],
   "source": [
    "wanted_grid_params = [\"mean_train_score\" ,\"mean_test_score\", \"param_n_estimators\", \"param_max_depth\", \n",
    "                      \"param_max_features\", \"param_min_samples_leaf\", \"rank_test_score\"]\n",
    "# Which params are in both lists \n",
    "set(wanted_grid_params) & set(rf1_random_search.cv_results_.keys())"
   ]
  },
  {
   "cell_type": "code",
   "execution_count": 43,
   "metadata": {
    "collapsed": false
   },
   "outputs": [
    {
     "data": {
      "text/html": [
       "<div>\n",
       "<table border=\"1\" class=\"dataframe\">\n",
       "  <thead>\n",
       "    <tr style=\"text-align: right;\">\n",
       "      <th></th>\n",
       "      <th>mean_test_score</th>\n",
       "      <th>mean_train_score</th>\n",
       "      <th>param_max_depth</th>\n",
       "      <th>param_max_features</th>\n",
       "      <th>param_min_samples_leaf</th>\n",
       "      <th>param_n_estimators</th>\n",
       "      <th>rank_test_score</th>\n",
       "    </tr>\n",
       "  </thead>\n",
       "  <tbody>\n",
       "    <tr>\n",
       "      <th>8</th>\n",
       "      <td>0.315542</td>\n",
       "      <td>0.691587</td>\n",
       "      <td>None</td>\n",
       "      <td>7</td>\n",
       "      <td>7</td>\n",
       "      <td>200</td>\n",
       "      <td>1</td>\n",
       "    </tr>\n",
       "    <tr>\n",
       "      <th>18</th>\n",
       "      <td>0.312566</td>\n",
       "      <td>0.689539</td>\n",
       "      <td>None</td>\n",
       "      <td>7</td>\n",
       "      <td>7</td>\n",
       "      <td>100</td>\n",
       "      <td>2</td>\n",
       "    </tr>\n",
       "    <tr>\n",
       "      <th>24</th>\n",
       "      <td>0.307397</td>\n",
       "      <td>0.804820</td>\n",
       "      <td>None</td>\n",
       "      <td>sqrt</td>\n",
       "      <td>3</td>\n",
       "      <td>30</td>\n",
       "      <td>3</td>\n",
       "    </tr>\n",
       "    <tr>\n",
       "      <th>23</th>\n",
       "      <td>0.306552</td>\n",
       "      <td>0.706952</td>\n",
       "      <td>None</td>\n",
       "      <td>11</td>\n",
       "      <td>7</td>\n",
       "      <td>200</td>\n",
       "      <td>4</td>\n",
       "    </tr>\n",
       "    <tr>\n",
       "      <th>26</th>\n",
       "      <td>0.306343</td>\n",
       "      <td>0.589975</td>\n",
       "      <td>None</td>\n",
       "      <td>sqrt</td>\n",
       "      <td>11</td>\n",
       "      <td>400</td>\n",
       "      <td>5</td>\n",
       "    </tr>\n",
       "  </tbody>\n",
       "</table>\n",
       "</div>"
      ],
      "text/plain": [
       "    mean_test_score  mean_train_score param_max_depth param_max_features  \\\n",
       "8          0.315542          0.691587            None                  7   \n",
       "18         0.312566          0.689539            None                  7   \n",
       "24         0.307397          0.804820            None               sqrt   \n",
       "23         0.306552          0.706952            None                 11   \n",
       "26         0.306343          0.589975            None               sqrt   \n",
       "\n",
       "   param_min_samples_leaf param_n_estimators  rank_test_score  \n",
       "8                       7                200                1  \n",
       "18                      7                100                2  \n",
       "24                      3                 30                3  \n",
       "23                      7                200                4  \n",
       "26                     11                400                5  "
      ]
     },
     "execution_count": 43,
     "metadata": {},
     "output_type": "execute_result"
    }
   ],
   "source": [
    "dict_temp = {x:rf1_random_search.cv_results_[x] for x in wanted_grid_params}\n",
    "search_results = pd.DataFrame(dict_temp)\n",
    "search_results.sort_values(by=[\"mean_test_score\"], ascending = False).head()"
   ]
  },
  {
   "cell_type": "raw",
   "metadata": {
    "collapsed": false
   },
   "source": [
    "pprint.pprint(rf1_random_search.cv_results_)"
   ]
  },
  {
   "cell_type": "code",
   "execution_count": 44,
   "metadata": {
    "collapsed": false
   },
   "outputs": [
    {
     "name": "stdout",
     "output_type": "stream",
     "text": [
      "Best Estimator Score according to sklearn 0.31554178594\n"
     ]
    },
    {
     "data": {
      "text/plain": [
       "RandomForestRegressor(bootstrap=True, criterion='mse', max_depth=None,\n",
       "           max_features=7, max_leaf_nodes=None, min_impurity_split=1e-07,\n",
       "           min_samples_leaf=7, min_samples_split=2,\n",
       "           min_weight_fraction_leaf=0.0, n_estimators=200, n_jobs=1,\n",
       "           oob_score=False, random_state=None, verbose=0, warm_start=False)"
      ]
     },
     "execution_count": 44,
     "metadata": {},
     "output_type": "execute_result"
    }
   ],
   "source": [
    "print(\"Best Estimator Score according to sklearn\", rf1_random_search.best_score_)\n",
    "rf_best = rf1_random_search.best_estimator_\n",
    "rf_best"
   ]
  },
  {
   "cell_type": "markdown",
   "metadata": {},
   "source": [
    "Let's examine the model with the lower number of trees as it is simplier  \n",
    "I am very suspicious that it is overfitting as the R2 is very high "
   ]
  },
  {
   "cell_type": "code",
   "execution_count": 45,
   "metadata": {
    "collapsed": false,
    "scrolled": true
   },
   "outputs": [],
   "source": [
    "rf_best2 = RandomForestRegressor(max_depth= 6, max_features=None, min_samples_leaf=3, n_estimators=100).fit(X_train, y_train)"
   ]
  },
  {
   "cell_type": "code",
   "execution_count": 46,
   "metadata": {
    "collapsed": false
   },
   "outputs": [
    {
     "data": {
      "text/plain": [
       "array([ 0.02692315,  0.09019015,  0.03492318,  0.01156835,  0.02818183,\n",
       "        0.02545666,  0.05637756,  0.04618741,  0.02578244,  0.11813997,\n",
       "        0.25860241,  0.03977275,  0.09374227,  0.02257801,  0.02678738,\n",
       "        0.09478647])"
      ]
     },
     "execution_count": 46,
     "metadata": {},
     "output_type": "execute_result"
    }
   ],
   "source": [
    "rf_best.feature_importances_"
   ]
  },
  {
   "cell_type": "code",
   "execution_count": 47,
   "metadata": {
    "collapsed": false
   },
   "outputs": [
    {
     "name": "stdout",
     "output_type": "stream",
     "text": [
      "{'alcohol': 0.36957315868996332,\n",
      " 'chlorides': 0.054603336136037794,\n",
      " 'citric acid': -0.076360412076218034,\n",
      " 'density': -0.012400928122915163,\n",
      " 'fixed acidity': 0.051897238367267069,\n",
      " 'fixed_volatile_perc': 0.1109929088504332,\n",
      " 'free sulfur dioxide': -0.0014589056863684655,\n",
      " 'free_sulf_ratio': 0.05032231956256894,\n",
      " 'pH': -0.062868693435003148,\n",
      " 'residual sugar': -9.8758074321546889,\n",
      " 'sugar_alcohol_ratio': 0.39021909981196368,\n",
      " 'sugar_density_ratio': 9.5166875437033127,\n",
      " 'sulphates': 0.073889281723032441,\n",
      " 'total sulfur dioxide': -0.047876601722147277,\n",
      " 'volatile acidity': -0.12783930969185225}\n"
     ]
    }
   ],
   "source": [
    "coef_dict1 ={}\n",
    "x = 0\n",
    "for data in X.columns.values[0:(num_indep_vars-2)]:\n",
    "    coef_dict1[data] = linear_fit.coef_[x]\n",
    "    x = x+1 \n",
    "\n",
    "pprint.pprint(coef_dict1)"
   ]
  },
  {
   "cell_type": "code",
   "execution_count": 48,
   "metadata": {
    "collapsed": false,
    "scrolled": true
   },
   "outputs": [],
   "source": [
    "rf_imp1 ={}\n",
    "x = 0\n",
    "for var in X.columns:\n",
    "    rf_imp1[var] = (rf_best.feature_importances_[x], rf_best2.feature_importances_[x]) \n",
    "    x = x+1 \n",
    "\n",
    "feature_importances = pd.DataFrame(rf_imp1).transpose()\n",
    "feature_importances.columns = [\"Sk_learn RF Importance\", \"Refit Model Importance\"]"
   ]
  },
  {
   "cell_type": "markdown",
   "metadata": {},
   "source": [
    "We can see that the most important are \n",
    "* alcohol \n",
    "* sulphates \n",
    "* volatile acidity \n",
    "* total sulfur dioxide (maybe) "
   ]
  },
  {
   "cell_type": "code",
   "execution_count": 49,
   "metadata": {
    "collapsed": false,
    "scrolled": true
   },
   "outputs": [
    {
     "data": {
      "text/html": [
       "<div>\n",
       "<table border=\"1\" class=\"dataframe\">\n",
       "  <thead>\n",
       "    <tr style=\"text-align: right;\">\n",
       "      <th></th>\n",
       "      <th>Sk_learn RF Importance</th>\n",
       "      <th>Refit Model Importance</th>\n",
       "    </tr>\n",
       "  </thead>\n",
       "  <tbody>\n",
       "    <tr>\n",
       "      <th>alcohol</th>\n",
       "      <td>0.258602</td>\n",
       "      <td>0.385799</td>\n",
       "    </tr>\n",
       "    <tr>\n",
       "      <th>chlorides</th>\n",
       "      <td>0.028182</td>\n",
       "      <td>0.015998</td>\n",
       "    </tr>\n",
       "    <tr>\n",
       "      <th>chlorides_sulphates_ratio</th>\n",
       "      <td>0.094786</td>\n",
       "      <td>0.057255</td>\n",
       "    </tr>\n",
       "    <tr>\n",
       "      <th>citric acid</th>\n",
       "      <td>0.034923</td>\n",
       "      <td>0.025059</td>\n",
       "    </tr>\n",
       "    <tr>\n",
       "      <th>density</th>\n",
       "      <td>0.046187</td>\n",
       "      <td>0.018422</td>\n",
       "    </tr>\n",
       "    <tr>\n",
       "      <th>fixed acidity</th>\n",
       "      <td>0.026923</td>\n",
       "      <td>0.020172</td>\n",
       "    </tr>\n",
       "    <tr>\n",
       "      <th>fixed_volatile_perc</th>\n",
       "      <td>0.093742</td>\n",
       "      <td>0.070237</td>\n",
       "    </tr>\n",
       "    <tr>\n",
       "      <th>free sulfur dioxide</th>\n",
       "      <td>0.025457</td>\n",
       "      <td>0.024076</td>\n",
       "    </tr>\n",
       "    <tr>\n",
       "      <th>free_sulf_ratio</th>\n",
       "      <td>0.039773</td>\n",
       "      <td>0.036596</td>\n",
       "    </tr>\n",
       "    <tr>\n",
       "      <th>pH</th>\n",
       "      <td>0.025782</td>\n",
       "      <td>0.019731</td>\n",
       "    </tr>\n",
       "    <tr>\n",
       "      <th>residual sugar</th>\n",
       "      <td>0.011568</td>\n",
       "      <td>0.004612</td>\n",
       "    </tr>\n",
       "    <tr>\n",
       "      <th>sugar_alcohol_ratio</th>\n",
       "      <td>0.022578</td>\n",
       "      <td>0.018243</td>\n",
       "    </tr>\n",
       "    <tr>\n",
       "      <th>sugar_density_ratio</th>\n",
       "      <td>0.026787</td>\n",
       "      <td>0.017000</td>\n",
       "    </tr>\n",
       "    <tr>\n",
       "      <th>sulphates</th>\n",
       "      <td>0.118140</td>\n",
       "      <td>0.112490</td>\n",
       "    </tr>\n",
       "    <tr>\n",
       "      <th>total sulfur dioxide</th>\n",
       "      <td>0.056378</td>\n",
       "      <td>0.047047</td>\n",
       "    </tr>\n",
       "    <tr>\n",
       "      <th>volatile acidity</th>\n",
       "      <td>0.090190</td>\n",
       "      <td>0.127263</td>\n",
       "    </tr>\n",
       "  </tbody>\n",
       "</table>\n",
       "</div>"
      ],
      "text/plain": [
       "                           Sk_learn RF Importance  Refit Model Importance\n",
       "alcohol                                  0.258602                0.385799\n",
       "chlorides                                0.028182                0.015998\n",
       "chlorides_sulphates_ratio                0.094786                0.057255\n",
       "citric acid                              0.034923                0.025059\n",
       "density                                  0.046187                0.018422\n",
       "fixed acidity                            0.026923                0.020172\n",
       "fixed_volatile_perc                      0.093742                0.070237\n",
       "free sulfur dioxide                      0.025457                0.024076\n",
       "free_sulf_ratio                          0.039773                0.036596\n",
       "pH                                       0.025782                0.019731\n",
       "residual sugar                           0.011568                0.004612\n",
       "sugar_alcohol_ratio                      0.022578                0.018243\n",
       "sugar_density_ratio                      0.026787                0.017000\n",
       "sulphates                                0.118140                0.112490\n",
       "total sulfur dioxide                     0.056378                0.047047\n",
       "volatile acidity                         0.090190                0.127263"
      ]
     },
     "execution_count": 49,
     "metadata": {},
     "output_type": "execute_result"
    }
   ],
   "source": [
    "feature_importances"
   ]
  },
  {
   "cell_type": "markdown",
   "metadata": {},
   "source": [
    "### Compare Model Performances "
   ]
  },
  {
   "cell_type": "code",
   "execution_count": 50,
   "metadata": {
    "collapsed": false
   },
   "outputs": [
    {
     "data": {
      "text/html": [
       "<div>\n",
       "<table border=\"1\" class=\"dataframe\">\n",
       "  <thead>\n",
       "    <tr style=\"text-align: right;\">\n",
       "      <th></th>\n",
       "      <th>Sk_learn RF Importance</th>\n",
       "      <th>Refit Model Importance</th>\n",
       "    </tr>\n",
       "  </thead>\n",
       "  <tbody>\n",
       "    <tr>\n",
       "      <th>alcohol</th>\n",
       "      <td>0.258602</td>\n",
       "      <td>0.385799</td>\n",
       "    </tr>\n",
       "    <tr>\n",
       "      <th>volatile acidity</th>\n",
       "      <td>0.090190</td>\n",
       "      <td>0.127263</td>\n",
       "    </tr>\n",
       "    <tr>\n",
       "      <th>sulphates</th>\n",
       "      <td>0.118140</td>\n",
       "      <td>0.112490</td>\n",
       "    </tr>\n",
       "    <tr>\n",
       "      <th>fixed_volatile_perc</th>\n",
       "      <td>0.093742</td>\n",
       "      <td>0.070237</td>\n",
       "    </tr>\n",
       "    <tr>\n",
       "      <th>chlorides_sulphates_ratio</th>\n",
       "      <td>0.094786</td>\n",
       "      <td>0.057255</td>\n",
       "    </tr>\n",
       "  </tbody>\n",
       "</table>\n",
       "</div>"
      ],
      "text/plain": [
       "                           Sk_learn RF Importance  Refit Model Importance\n",
       "alcohol                                  0.258602                0.385799\n",
       "volatile acidity                         0.090190                0.127263\n",
       "sulphates                                0.118140                0.112490\n",
       "fixed_volatile_perc                      0.093742                0.070237\n",
       "chlorides_sulphates_ratio                0.094786                0.057255"
      ]
     },
     "execution_count": 50,
     "metadata": {},
     "output_type": "execute_result"
    }
   ],
   "source": [
    "feature_importances.sort_values(by = [\"Refit Model Importance\"], ascending=False).head()"
   ]
  },
  {
   "cell_type": "code",
   "execution_count": 51,
   "metadata": {
    "collapsed": false
   },
   "outputs": [
    {
     "data": {
      "text/html": [
       "<div>\n",
       "<table border=\"1\" class=\"dataframe\">\n",
       "  <thead>\n",
       "    <tr style=\"text-align: right;\">\n",
       "      <th></th>\n",
       "      <th>Sk_learn RF Importance</th>\n",
       "      <th>Refit Model Importance</th>\n",
       "    </tr>\n",
       "  </thead>\n",
       "  <tbody>\n",
       "    <tr>\n",
       "      <th>alcohol</th>\n",
       "      <td>0.258602</td>\n",
       "      <td>0.385799</td>\n",
       "    </tr>\n",
       "    <tr>\n",
       "      <th>sulphates</th>\n",
       "      <td>0.118140</td>\n",
       "      <td>0.112490</td>\n",
       "    </tr>\n",
       "    <tr>\n",
       "      <th>chlorides_sulphates_ratio</th>\n",
       "      <td>0.094786</td>\n",
       "      <td>0.057255</td>\n",
       "    </tr>\n",
       "    <tr>\n",
       "      <th>fixed_volatile_perc</th>\n",
       "      <td>0.093742</td>\n",
       "      <td>0.070237</td>\n",
       "    </tr>\n",
       "    <tr>\n",
       "      <th>volatile acidity</th>\n",
       "      <td>0.090190</td>\n",
       "      <td>0.127263</td>\n",
       "    </tr>\n",
       "  </tbody>\n",
       "</table>\n",
       "</div>"
      ],
      "text/plain": [
       "                           Sk_learn RF Importance  Refit Model Importance\n",
       "alcohol                                  0.258602                0.385799\n",
       "sulphates                                0.118140                0.112490\n",
       "chlorides_sulphates_ratio                0.094786                0.057255\n",
       "fixed_volatile_perc                      0.093742                0.070237\n",
       "volatile acidity                         0.090190                0.127263"
      ]
     },
     "execution_count": 51,
     "metadata": {},
     "output_type": "execute_result"
    }
   ],
   "source": [
    "feature_importances.sort_values(by = [\"Sk_learn RF Importance\"], ascending=False).head()"
   ]
  },
  {
   "cell_type": "code",
   "execution_count": 52,
   "metadata": {
    "collapsed": false
   },
   "outputs": [
    {
     "data": {
      "text/html": [
       "<div>\n",
       "<table border=\"1\" class=\"dataframe\">\n",
       "  <thead>\n",
       "    <tr style=\"text-align: right;\">\n",
       "      <th></th>\n",
       "      <th>Variable</th>\n",
       "      <th>Scaled Coefficients</th>\n",
       "      <th>Abs Scaled Coefs</th>\n",
       "    </tr>\n",
       "  </thead>\n",
       "  <tbody>\n",
       "    <tr>\n",
       "      <th>3</th>\n",
       "      <td>residual sugar</td>\n",
       "      <td>-9.875807</td>\n",
       "      <td>9.875807</td>\n",
       "    </tr>\n",
       "    <tr>\n",
       "      <th>14</th>\n",
       "      <td>sugar_density_ratio</td>\n",
       "      <td>9.516688</td>\n",
       "      <td>9.516688</td>\n",
       "    </tr>\n",
       "    <tr>\n",
       "      <th>13</th>\n",
       "      <td>sugar_alcohol_ratio</td>\n",
       "      <td>0.390219</td>\n",
       "      <td>0.390219</td>\n",
       "    </tr>\n",
       "    <tr>\n",
       "      <th>10</th>\n",
       "      <td>alcohol</td>\n",
       "      <td>0.369573</td>\n",
       "      <td>0.369573</td>\n",
       "    </tr>\n",
       "    <tr>\n",
       "      <th>15</th>\n",
       "      <td>chlorides_sulphates_ratio</td>\n",
       "      <td>-0.152612</td>\n",
       "      <td>0.152612</td>\n",
       "    </tr>\n",
       "  </tbody>\n",
       "</table>\n",
       "</div>"
      ],
      "text/plain": [
       "                     Variable  Scaled Coefficients  Abs Scaled Coefs\n",
       "3              residual sugar            -9.875807          9.875807\n",
       "14        sugar_density_ratio             9.516688          9.516688\n",
       "13        sugar_alcohol_ratio             0.390219          0.390219\n",
       "10                    alcohol             0.369573          0.369573\n",
       "15  chlorides_sulphates_ratio            -0.152612          0.152612"
      ]
     },
     "execution_count": 52,
     "metadata": {},
     "output_type": "execute_result"
    }
   ],
   "source": [
    "# Linear regression coefficients \n",
    "coefficients.sort_values(by = [\"Abs Scaled Coefs\"], ascending = False ).head()"
   ]
  },
  {
   "cell_type": "code",
   "execution_count": 59,
   "metadata": {
    "collapsed": false
   },
   "outputs": [
    {
     "data": {
      "text/plain": [
       "Index(['residual sugar', 'alcohol', 'sugar_alcohol_ratio',\n",
       "       'sugar_density_ratio'],\n",
       "      dtype='object')"
      ]
     },
     "execution_count": 59,
     "metadata": {},
     "output_type": "execute_result"
    }
   ],
   "source": [
    "top_rfe_vars"
   ]
  },
  {
   "cell_type": "markdown",
   "metadata": {},
   "source": [
    "### Evaluation Metric "
   ]
  },
  {
   "cell_type": "code",
   "execution_count": 53,
   "metadata": {
    "collapsed": true
   },
   "outputs": [],
   "source": [
    "from sklearn.model_selection import KFold\n",
    "from sklearn.model_selection import cross_val_score\n",
    "kfold = KFold(n_splits= 7, random_state=22)"
   ]
  },
  {
   "cell_type": "code",
   "execution_count": 54,
   "metadata": {
    "collapsed": false
   },
   "outputs": [
    {
     "name": "stdout",
     "output_type": "stream",
     "text": [
      "(36.689676120379339, 4.9327058616436519)\n"
     ]
    }
   ],
   "source": [
    "lin_results = cross_val_score(linear_fit, X_train, y_train, cv=kfold)\n",
    "print((lin_results.mean()*100.0, lin_results.std()*100.0))"
   ]
  },
  {
   "cell_type": "code",
   "execution_count": 55,
   "metadata": {
    "collapsed": false
   },
   "outputs": [
    {
     "name": "stdout",
     "output_type": "stream",
     "text": [
      "44.0484359559 4.02212617513\n"
     ]
    }
   ],
   "source": [
    "rf_results = cross_val_score(rf_best, X_train, y_train, cv = kfold)\n",
    "print(rf_results.mean()*100.0, rf_results.std()*100.0)"
   ]
  },
  {
   "cell_type": "code",
   "execution_count": 56,
   "metadata": {
    "collapsed": false
   },
   "outputs": [
    {
     "name": "stdout",
     "output_type": "stream",
     "text": [
      "43.1592381453 5.05344414835\n"
     ]
    }
   ],
   "source": [
    "rf2_results = cross_val_score(rf_best2, X_train, y_train, cv = kfold)\n",
    "print(rf2_results.mean()*100.0, rf2_results.std()*100.0)"
   ]
  },
  {
   "cell_type": "markdown",
   "metadata": {
    "collapsed": true
   },
   "source": [
    "Note that the random forest has a higher mean and lower standard deviation. \n",
    "We can be fairly certain that the random forest will perform better than a linear regression "
   ]
  },
  {
   "cell_type": "code",
   "execution_count": null,
   "metadata": {
    "collapsed": false
   },
   "outputs": [],
   "source": []
  },
  {
   "cell_type": "code",
   "execution_count": null,
   "metadata": {
    "collapsed": true
   },
   "outputs": [],
   "source": []
  },
  {
   "cell_type": "code",
   "execution_count": null,
   "metadata": {
    "collapsed": true
   },
   "outputs": [],
   "source": []
  },
  {
   "cell_type": "code",
   "execution_count": null,
   "metadata": {
    "collapsed": true
   },
   "outputs": [],
   "source": []
  }
 ],
 "metadata": {
  "anaconda-cloud": {},
  "kernelspec": {
   "display_name": "Python [Root]",
   "language": "python",
   "name": "Python [Root]"
  },
  "language_info": {
   "codemirror_mode": {
    "name": "ipython",
    "version": 3
   },
   "file_extension": ".py",
   "mimetype": "text/x-python",
   "name": "python",
   "nbconvert_exporter": "python",
   "pygments_lexer": "ipython3",
   "version": "3.5.2"
  }
 },
 "nbformat": 4,
 "nbformat_minor": 0
}
